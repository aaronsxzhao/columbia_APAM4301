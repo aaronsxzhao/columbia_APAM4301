{
 "cells": [
  {
   "cell_type": "code",
   "execution_count": 3,
   "metadata": {},
   "outputs": [],
   "source": [
    "%matplotlib inline\n",
    "%precision 16\n",
    "from __future__ import print_function\n",
    "from six.moves import range\n",
    "import numpy\n",
    "import math\n",
    "import matplotlib.pyplot as plt\n",
    "\n",
    "import scipy.sparse as sparse\n",
    "import scipy.linalg\n",
    "import scipy.sparse.linalg as linalg"
   ]
  },
  {
   "cell_type": "markdown",
   "metadata": {
    "deletable": false,
    "editable": false,
    "nbgrader": {
     "cell_type": "markdown",
     "checksum": "453e56947879b723a0b2f767f03b9d8b",
     "grade": false,
     "grade_id": "cell-3568728635947986",
     "locked": true,
     "schema_version": 3,
     "solution": false
    }
   },
   "source": [
    "Before you turn this problem in, make sure everything runs as expected. First, restart the kernel (in the menubar, select Kernel $\\rightarrow$ Restart) and then run all cells (in the menubar, select Cell $\\rightarrow$ Run All).\n",
    "\n",
    "Make sure you fill in any place that says YOUR CODE HERE or \"YOUR ANSWER HERE\", as well as your name and collaborators below:"
   ]
  },
  {
   "cell_type": "markdown",
   "metadata": {},
   "source": [
    "Me myself and I"
   ]
  },
  {
   "cell_type": "markdown",
   "metadata": {
    "deletable": false,
    "editable": false,
    "nbgrader": {
     "cell_type": "markdown",
     "checksum": "6d12be1905ddefb76f771b57ceb17c6f",
     "grade": false,
     "grade_id": "cell-4498557659154907",
     "locked": true,
     "schema_version": 3,
     "solution": false
    }
   },
   "source": [
    "# HW 5: Parabolic Problems"
   ]
  },
  {
   "cell_type": "markdown",
   "metadata": {
    "deletable": false,
    "editable": false,
    "nbgrader": {
     "cell_type": "markdown",
     "checksum": "4c33b0d35031e585de83e84a55249d6d",
     "grade": false,
     "grade_id": "cell-4602958060027156",
     "locked": true,
     "schema_version": 3,
     "solution": false
    }
   },
   "source": [
    "# Question 1 - Parabolic + Periodic BCs\n",
    "\n",
    "Consider the temperature distribution in a thin circular ring with perimeter $2L$. Assume that the lateral surfaces are perfectly insulated, such that the temperature is distributed evenly throughout the ring cross-section and that the ends at $x=-L$ and $x=L$ are in perfect thermal contact.\n",
    "\n",
    "This mathematical problem can be formulated as a heat equation with factor $k \\in \\mathbb R$ and periodic boundary conditions.\n",
    "$$\n",
    "    \\frac{\\partial u}{\\partial t} = k \\ \\frac{\\partial^2 u}{\\partial x^2} \\qquad \\mbox{on } [-L,L]\\times \\mathbb R_+\\\\\n",
    "    u(x,0) = u_0(x) ~~~~~~ u(-L,t) = u(L,t) ~~~~~ \\frac{\\partial}{\\partial x} u(-L,t) = \\frac{\\partial}{\\partial x} u(L,t).\n",
    "$$"
   ]
  },
  {
   "cell_type": "markdown",
   "metadata": {
    "deletable": false,
    "editable": false,
    "nbgrader": {
     "cell_type": "markdown",
     "checksum": "15029e50cab9145cb9baf03de6389ae8",
     "grade": false,
     "grade_id": "cell-3546325261803724",
     "locked": true,
     "schema_version": 3,
     "solution": false
    }
   },
   "source": [
    "**(a)** [10] Solve the problem analytically."
   ]
  },
  {
   "cell_type": "markdown",
   "metadata": {
    "deletable": false,
    "nbgrader": {
     "cell_type": "markdown",
     "checksum": "78f19f067a8f2ebe235d53daa249713c",
     "grade": true,
     "grade_id": "cell-3691704103064185",
     "locked": false,
     "points": 10,
     "schema_version": 3,
     "solution": true
    }
   },
   "source": [
    "## Answer to Question 1 (a)\n",
    "\n",
    "Since we have no idea what exactly is $u(x, t)$, we can first use Separation of Variables to generate two seperate ODEs as below:\n",
    "\n",
    "$$\n",
    "\\begin{aligned}\n",
    "u(x, t) &= g(x)h(t)\\\\\n",
    "\\frac{dh}{dt} &= -\\lambda kh \\\\\n",
    "\\frac{d^2 g }{dx^2} &= -\\lambda g\n",
    "\\end{aligned}\n",
    "$$\n",
    "\n",
    "We can then solve $h(t)$ by the process below:\n",
    "\n",
    "$$\n",
    "\\begin{aligned}\n",
    "\\frac{dh}{dt} &= -\\lambda kh\\\\\n",
    "\\frac{1}{h}\\frac{dh}{dt} &= -\\lambda k\\\\\n",
    "ln(h(t)) &= - \\lambda kt + c\\\\\n",
    "h(t) &= \\exp(- \\lambda kt + c)\\\\\n",
    "&= c \\cdot \\exp(- \\lambda kt)\n",
    "\\end{aligned}\n",
    "$$\n",
    "\n",
    "Since we know $\\frac{d^2 g(x) }{dx^2} = -\\lambda g(x)$, we can then take some simple assumptions that $g(x)$ actually is something that has a strong relationship with $\\sin$ and $\\cos$. We then can write g(x) as below:\n",
    "\n",
    "$$\n",
    "g(x) = c_1 \\cos\\sqrt{\\lambda}x + c_2 \\sin\\sqrt{\\lambda}x\n",
    "$$\n",
    "\n",
    "Since we know $u(-L,t) = u(L,t)$, which means $g(-L) = g(L)$\n",
    "\n",
    "$$\n",
    "\\begin{aligned}\n",
    "g(-L) &= g(L)\\\\\n",
    "c_1 \\cos\\sqrt{\\lambda}(-L) + c_2 \\sin\\sqrt{\\lambda}(-L) &= c_1 \\cos\\sqrt{\\lambda}(L) + c_2 \\sin\\sqrt{\\lambda}(L)\\\\\n",
    "c_1 \\cos\\sqrt{\\lambda}(L) + c_2 \\sin\\sqrt{\\lambda}(-L) &= c_1 \\cos\\sqrt{\\lambda}(L) + c_2 \\sin\\sqrt{\\lambda}(L)\\\\\n",
    "c_2 \\sin\\sqrt{\\lambda}(-L) &= c_2 \\sin\\sqrt{\\lambda}(L)\\\\\n",
    "\\end{aligned}\n",
    "$$\n",
    "\n",
    "But we know from the definition that $\\sin(-L) = -\\sin(L)$, we then know the equation below will make sure the result above happen\n",
    "\n",
    "$$\n",
    "\\lambda = \\left(\\frac{n\\pi}{L}\\right)^2\n",
    "$$\n",
    "\n",
    "We use the other boundary condition to get $c_1$ hopefully: $\\frac{d g(x)}{dx}=\\sqrt{\\lambda}\\left(-c_1 \\sin\\sqrt{\\lambda}x + c_2 \\cos\\sqrt{\\lambda}x\\right)$\n",
    "\n",
    "If we want to satisify the boundary condition, we should set $c_1 \\sqrt{\\lambda}\\sin\\sqrt{\\lambda}L$ equal to 0 as below:\n",
    "\n",
    "$$\n",
    "c_1 \\sqrt{\\lambda}\\sin\\sqrt{\\lambda}L = 0\n",
    "$$\n",
    "\n",
    "Then we get actually the same thing! Then we can substitute $\\lambda$ into our $g(x)$\n",
    "\n",
    "$$\n",
    "g(x) = \\cos\\frac{n\\pi x}{L},\\sin\\frac{n\\pi x}{L},n=1,2,3,\\ldots\n",
    "$$\n",
    "\n",
    "We then substitute our $g(x)$ and $h(x)$ together and then will get something below:\n",
    "\n",
    "$$\n",
    "u(x,t) = a_0 + \\sum_{n=1}^{\\infty} a_n \\cos\\frac{n\\pi x}{L}e^{-\\left(\\frac{n\\pi}{L}\\right)^2 kt}\n",
    "+\\sum_{n=1}^{\\infty} b_n \\sin\\frac{n\\pi x}{L}e^{-\\left(\\frac{n\\pi}{L}\\right)^2 kt}\n",
    "$$\n",
    "\n",
    "Since there is another initial condition we have not used: $u(x,0) = f(x)$, we can get:\n",
    "\n",
    "$$u_0(x) = a_0 + \\sum_{n=1}^{\\infty} a_n \\cos\\frac{n\\pi x}{L} + \\sum_{n=1}^{\\infty} b_n \\sin\\frac{n\\pi x}{L}$$\n",
    "\n",
    "We can get $a_0$, $a_n$, and $b_n$ using orthogonality of sines and cosines:\n",
    "\n",
    "$$\n",
    "\\begin{aligned}\n",
    "a_0 &= \\frac{1}{2L}\\int_{-L}^{L}u_0(x) dx \\\\\n",
    "a_n &= \\frac{1}{L}\\int_{-L}^{L}u_0(x) \\cos\\frac{n\\pi x}{L} dx \\\\\n",
    "b_n &= \\frac{1}{L}\\int_{-L}^{L}u_0(x) \\sin\\frac{n\\pi x}{L} dx\n",
    "\\end{aligned}\n",
    "$$"
   ]
  },
  {
   "cell_type": "markdown",
   "metadata": {
    "deletable": false,
    "editable": false,
    "nbgrader": {
     "cell_type": "markdown",
     "checksum": "f485fccc866a70cb5e65af98c4e58cd2",
     "grade": false,
     "grade_id": "cell-c48917c7fec18882",
     "locked": true,
     "schema_version": 3,
     "solution": false,
     "task": false
    }
   },
   "source": [
    "**(b)** [10] Write down the discretization for the problem resulting from using the Crank-Nicholson method showing the full matrix representation of the discretization and how you came to that representation.  Note that the periodicity will cause there to be a dependence that \"wraps around\" the domain so that the left most point in the domain depends on the right most point and vice-versa."
   ]
  },
  {
   "cell_type": "markdown",
   "metadata": {
    "deletable": false,
    "nbgrader": {
     "cell_type": "markdown",
     "checksum": "9f56394dbb3f813212047e99a9294a20",
     "grade": true,
     "grade_id": "cell-7f3248b58aeefaa3",
     "locked": false,
     "points": 10,
     "schema_version": 3,
     "solution": true,
     "task": false
    }
   },
   "source": [
    "## Answer to Question 1 (b)\n",
    "\n",
    "\n",
    "Crank-Nicholson Method is shown as below(taken from notes):\n",
    "$$\n",
    "    -r U^{n+1}_{i-1} + (1 + 2r) U^{n+1}_i - r U^{n+1}_{i+1} = r U^{n}_{i-1} + (1 - 2r) U^{n}_{i} + r U^{n}_{i+1}\n",
    "$$\n",
    "where $r = \\frac{\\Delta t}{2 \\Delta x^2}$\n",
    "\n",
    "We can know the equation below from 1st order finite differences:\n",
    "\n",
    "$$\n",
    "\\frac{U_1 - U_0}{\\Delta x} = \\frac{U_0 - U_m}{\\Delta x}\n",
    "$$\n",
    "\n",
    "We can then derive something below:\n",
    "\n",
    "$$\n",
    "U_0 = \\frac{U_1 + U_m}{2}\n",
    "$$\n",
    "\n",
    "When $i=0$:\n",
    "\n",
    "$$\n",
    "A = \\frac{1}{2}(U_1 + U_m)\n",
    "$$\n",
    "\n",
    "When $i=m$:\n",
    "\n",
    "$$\n",
    "A = -rU_{m-1} + (1 + \\frac{3}{2}U_m) - \\frac{r}{2}U_1 \n",
    "$$\n",
    "\n",
    "$$\n",
    "B = rU_{m-1} + (1 - \\frac{3}{2}U_m) + \\frac{r}{2}U_1 \n",
    "$$\n",
    "\n",
    "The final matrix will be:\n",
    "\n",
    "$$\n",
    "\\begin{bmatrix}\n",
    "1+2r & -r & & & & -r \\\\\n",
    "-r & 1+2r & -r \\\\\n",
    "& -r & 1+2r & -r \\\\\n",
    "& & \\ddots & \\ddots & \\ddots \\\\\n",
    "& & & -r & 1+2r & -r \\\\\n",
    "-r & & & & -r & 1+2r\n",
    "\\end{bmatrix}\n",
    "$$\n"
   ]
  },
  {
   "cell_type": "markdown",
   "metadata": {
    "deletable": false,
    "editable": false,
    "nbgrader": {
     "cell_type": "markdown",
     "checksum": "5b8fa83d93d32c34d3b9d1debe62ae9b",
     "grade": false,
     "grade_id": "cell-6734943974012223",
     "locked": true,
     "schema_version": 3,
     "solution": false
    }
   },
   "source": [
    "**(b)** [10] Write a function to solve this problem using the Crank-Nicholson method."
   ]
  },
  {
   "cell_type": "code",
   "execution_count": 26,
   "metadata": {
    "deletable": false,
    "nbgrader": {
     "cell_type": "code",
     "checksum": "b5c4b6225fa375d89899b83aa553fbe0",
     "grade": false,
     "grade_id": "cell-1953053742584120",
     "locked": false,
     "schema_version": 3,
     "solution": true
    }
   },
   "outputs": [],
   "source": [
    "def solve_heat_periodic_CN(m, kappa, L, t_0, t_final, U_0):\n",
    "    \"\"\"Solve the heat equation on a periodic domain using Crank-Nicholson\n",
    "    \n",
    "    :Input:\n",
    "     - *m* (int) Number of points use to discretize the domain.  Note that\n",
    "       the total number of points is *m+1*.\n",
    "     - *kappa* (float) Diffusion coefficient\n",
    "     - *L* (float) Length of half of the domain\n",
    "     - *t_0* (float) Starting time\n",
    "     - *t_final* (float) Time to integrate to\n",
    "     - *U_0* (numpy.ndarray) Initial condition at time t_0, should be m+1\n",
    "     \n",
    "    :Output:\n",
    "     - (numpy.ndarray) Solution at time t_final.  Note that this vector should m+1\n",
    "    \"\"\"\n",
    "    \n",
    "    # discretization\n",
    "    delta_x = (2.0 * L) / float(m + 1)\n",
    "#     delta_t = 0.5 * delta_x**2\n",
    "    step = int(0.1*m)\n",
    "    print(step)\n",
    "    t = numpy.linspace(t_0, t_final, step)\n",
    "    delta_t = t[1] - t[0]\n",
    "    N = len(t)\n",
    "    \n",
    "    U = numpy.empty((N, m + 1))\n",
    "\n",
    "    # Initial and boundary conditions\n",
    "    U[0, :] = U_0\n",
    "    \n",
    "    r = numpy.ones(m+2)*(kappa*delta_t)/(2*delta_x**2)\n",
    "    A = sparse.spdiags([-r, -r, 1+2*r, -r, -r], [-m, -1, 0, 1, m], m+1, m+1).tocsr()\n",
    "    B = sparse.spdiags([r, r, 1-2*r, r, r], [-m, -1, 0, 1, m], m+1, m+1).tocsr()\n",
    "    \n",
    "    for n in range(1, len(t)):\n",
    "        b = B.dot(U[n-1,:])\n",
    "        U[n, :] = linalg.spsolve(A,b)\n",
    "    \n",
    "    U = U[-1,:]\n",
    "    \n",
    "    return U"
   ]
  },
  {
   "cell_type": "code",
   "execution_count": 27,
   "metadata": {
    "deletable": false,
    "editable": false,
    "nbgrader": {
     "cell_type": "code",
     "checksum": "8e5e3513a1b70f6acfdc00b402cc6328",
     "grade": true,
     "grade_id": "cell-9771866283718214",
     "locked": true,
     "points": 10,
     "schema_version": 3,
     "solution": false
    }
   },
   "outputs": [
    {
     "name": "stdout",
     "output_type": "stream",
     "text": [
      "20\n",
      "20\n",
      "20\n",
      "20\n",
      "Error = 0.0007025287762257007\n",
      "Success!\n"
     ]
    },
    {
     "data": {
      "image/png": "[encoded data removed]",
      "text/plain": [
       "<Figure size 432x288 with 1 Axes>"
      ]
     },
     "metadata": {
      "needs_background": "light"
     },
     "output_type": "display_data"
    }
   ],
   "source": [
    "L = numpy.pi\n",
    "kappa = 0.075\n",
    "u_true = lambda x, t: 6.0 * numpy.sin(2.0 * numpy.pi / L * x) * numpy.exp(-4.0 * kappa * (numpy.pi / L)**2 * t) + 3.0\n",
    "\n",
    "# Discretization and output times\n",
    "# Note that there are m unknowns including one of the points either at 0 or L\n",
    "m = 200\n",
    "delta_x = (2.0 * L) / float(m + 1)\n",
    "x = numpy.linspace(-L, L, m + 2)\n",
    "x_fine = numpy.linspace(-L, L, 100)\n",
    "output_times = (0.0, 2.5, 5.0, 7.5, 10.0)\n",
    "\n",
    "# Solve\n",
    "U = numpy.empty((len(output_times), m + 1))\n",
    "U[0, :] = u_true(x[:-1], 0.0)\n",
    "for (n, t) in enumerate(output_times[1:]):\n",
    "    U[n + 1, :] = solve_heat_periodic_CN(m, kappa, L, output_times[n], t, U[n, :])\n",
    "\n",
    "error = numpy.linalg.norm(delta_x * (U[-1, :] - u_true(x[:-1], output_times[-1])), ord=1)\n",
    "print(\"Error = %s\" % error)\n",
    "assert error < 1e-3\n",
    "print(\"Success!\")\n",
    "\n",
    "# Plot some of the results\n",
    "colors = ['k', 'r', 'b', 'g', 'c']\n",
    "fig = plt.figure()\n",
    "axes = fig.add_subplot(1, 1, 1)\n",
    "for (n, t) in enumerate(output_times):\n",
    "    axes.plot(x_fine, u_true(x_fine, t), 'k-')\n",
    "    axes.plot(x[:-1], U[n, :], \"o%s\" % colors[n], label='t=%s' % numpy.round(t, 4))\n",
    "    axes.set_xlabel(\"x\")\n",
    "    axes.set_ylabel(\"$U_(x,t)$\")\n",
    "    axes.set_title(\"Solution to Heat Equation\")\n",
    "    axes.set_xlim([-L, L])\n",
    "    axes.legend()\n",
    "plt.show()"
   ]
  },
  {
   "cell_type": "markdown",
   "metadata": {
    "deletable": false,
    "editable": false,
    "nbgrader": {
     "cell_type": "markdown",
     "checksum": "b23ca3a9647a0b44de5effe6a75800e3",
     "grade": false,
     "grade_id": "cell-9255020430780614",
     "locked": true,
     "schema_version": 3,
     "solution": false
    }
   },
   "source": [
    "# Question 2 - Diffusion and Decay\n",
    "\n",
    "Consider the partial differential equation \n",
    "\n",
    "$$\n",
    "    \\frac{\\partial u}{\\partial t} = \\kappa \\frac{\\partial^2 u}{\\partial x^2} -\\gamma u,\n",
    "$$\n",
    "\n",
    "which models a diffusion with parameter $\\kappa \\in \\mathbb R_{>0}$ with decay specified by $\\gamma \\in \\mathbb R_{>0}$.\n",
    "\n",
    "Consider a $\\theta$-method of the form\n",
    "\n",
    "$$\n",
    "    U_j^{n+1} = U_j^n + \\frac {\\Delta t} {2\\Delta x^2} \\left( U_{j-1}^n - 2 U_j^n + U_{j+1}^n + U_{j-1}^{n+1} - 2U_j^{n+1}+U_{j+1}^{n+1} \\right)-\\Delta t\\gamma\\left( (1-\\theta) U^n_j +\\theta U_j^{n+1} \\right)\n",
    "$$\n",
    "\n",
    "where $\\theta$ is a parameter."
   ]
  },
  {
   "cell_type": "markdown",
   "metadata": {
    "deletable": false,
    "editable": false,
    "nbgrader": {
     "cell_type": "markdown",
     "checksum": "8a786b11e522fa31533cd7dbbf3c3576",
     "grade": false,
     "grade_id": "cell-6621174726566894",
     "locked": true,
     "schema_version": 3,
     "solution": false
    }
   },
   "source": [
    "**(a)** [15] Assume $\\kappa = 1 $, by computing the local truncation error, show that this method is $p$th order accurate in time and second order accurate in space, where $p=2$ for $\\theta = 0.5$ and $p=1$ otherwise."
   ]
  },
  {
   "cell_type": "markdown",
   "metadata": {
    "deletable": false,
    "nbgrader": {
     "cell_type": "markdown",
     "checksum": "e84ca3b8feb7fdd4e35005ea3b089e85",
     "grade": true,
     "grade_id": "cell-8570106802975743",
     "locked": false,
     "points": 15,
     "schema_version": 3,
     "solution": true
    }
   },
   "source": [
    "## Answer to Question 2(a)\n",
    "\n",
    "We first replace all the $U_a^b$ by $u(x(\\pm \\Delta x), t(\\pm \\Delta t))$ and get:\n",
    "\n",
    "$$\n",
    "    u(x,t+\\Delta t) = u(x,t) + \\frac {\\Delta t} {2\\Delta x^2} \\left( u(x-\\Delta x,t) - 2 u(x,t) + u(x,t+\\Delta t) + u(x-\\Delta x,t+\\Delta t) - 2u(x,t+\\Delta t)+u(x+\\Delta x,t + \\Delta t) \\right)-\\Delta t\\gamma\\left( (1-\\theta) u(x,t) +\\theta u(x,t+\\Delta t) \\right)\n",
    "$$\n",
    "\n",
    "We then expand our $\\theta-method$ using Taylor expansion and two variables expansion:\n",
    "\n",
    "$$\n",
    "u_t(x, t) + u_{tt}(x, t)\\frac{\\Delta t^2}{2} + u_{ttt}(x, t)\\frac{\\Delta t^3}{6} +u_{tttt}(x, t)\\frac{\\Delta t^4}{24}- \\Delta t u_{xx}(x, t)  - \\frac{\\Delta t^2}{2}u_{xxt}-\\frac{\\Delta t^3}{4} u_{xxtt}(x,t)+ \\gamma \\Delta tu(x, t) + \\theta \\gamma \\Delta t^2 u_t(x, t) + \\theta \\gamma \\frac{\\Delta t^3}{2}u_{tt}(x, t) + \\theta \\gamma \\frac{\\Delta t^4}{6} u_{ttt}(x,t)  + \\theta \\gamma \\frac{\\Delta t^5}{24} u_{tttt}(x,t)= 0\n",
    "$$\n",
    "\n",
    "We have $u_t = u_{xx} - \\gamma u$\n",
    "\n",
    "$$\n",
    "u_{tt}\\frac{\\Delta t^2}{2} + u_{ttt}\\frac{\\Delta t^3}{6} +u_{tttt}\\frac{\\Delta t^4}{24} - \\frac{\\Delta t^2}{2}u_{xxt}-\\frac{\\Delta t^3}{4} u_{xxtt}+\\theta \\gamma \\Delta t^2 u_t + \\theta \\gamma \\frac{\\Delta t^3}{2}u_{tt} + \\theta \\gamma \\frac{\\Delta t^4}{6} u_{ttt} + \\theta \\gamma \\frac{\\Delta t^5}{24} u_{tttt}= 0\n",
    "$$\n",
    "\n",
    "I expanded it to $u^{4}$ and $u_{xx}$s are left but there is no $\\Delta x^2$ since all $\\Delta x$ are cancelled out because of $\\frac{\\Delta t}{\\Delta x^2}$. So, by observation, if we expand the equaion to $u^{(6)}$, it will be second order accurate in space. \n",
    "\n",
    "When $\\theta=0.5$, the truncation error is lead by the $\\Delta t^2$ term, we then know $p = 2$\n"
   ]
  },
  {
   "cell_type": "markdown",
   "metadata": {
    "deletable": false,
    "editable": false,
    "nbgrader": {
     "cell_type": "markdown",
     "checksum": "60e7bb23dac8979a287523d47995199e",
     "grade": false,
     "grade_id": "cell-8225876585877517",
     "locked": true,
     "schema_version": 3,
     "solution": false
    }
   },
   "source": [
    "**(b)** [15] Using von Neumann analysis, show that this method is unconditionally stable if $\\theta \\geq 0.5$."
   ]
  },
  {
   "cell_type": "markdown",
   "metadata": {
    "deletable": false,
    "nbgrader": {
     "cell_type": "markdown",
     "checksum": "e9fc5e26cfaf4835a9e975dfe102ce1f",
     "grade": true,
     "grade_id": "cell-1686556357538657",
     "locked": false,
     "points": 15,
     "schema_version": 3,
     "solution": true
    }
   },
   "source": [
    "## Answer to Question 2(b)\n",
    "\n",
    "Substitute $U^n_j = e^{ij\\Delta x \\xi}$ into the $\\theta - method$ and get something below:\n",
    "\n",
    "$$\n",
    "U_j^{n+1} = U_j^n + \\frac {\\kappa \\Delta t} {2\\Delta x^2} \\left[ \\left(e^{i \\Delta x \\xi} - 2 + e^{-i\\Delta x \\xi} \\right) U^n_{j}+ \\left(e^{i \\Delta x \\xi} - 2 + e^{-i\\Delta x \\xi} \\right) U^{n+1}_{j} \\right ]-\\Delta t\\gamma\\left( (1-\\theta) U^n_j +\\theta U_j^{n+1} \\right)\n",
    "$$\n",
    "\n",
    "Set $U^{n+1}_j = g(\\xi) U^n_j$ and get:\n",
    "\n",
    "$$\n",
    "g(\\xi) = 1 + \\frac {\\kappa \\Delta t} {2\\Delta x^2} \\left(  e^{i \\Delta x \\xi} - 2 + e^{-i\\Delta x \\xi} \\right ) (1 + g(\\xi))-\\Delta t\\gamma\\left( (1-\\theta)+\\theta g(\\xi) \\right)\n",
    "$$\n",
    "\n",
    "If we set $z =  e^{i \\Delta x \\xi} - 2 + e^{-i\\Delta x \\xi}  =\\cos(\\xi \\Delta x) - 1$, then we can get $g(x)$ below:\n",
    "\n",
    "$$\n",
    "g(\\xi) = \\frac{1+\\frac{\\Delta t}{\\Delta x^2}\\frac{\\kappa}{2}z-\\frac{\\Delta t}{\\Delta x^2}\\Delta t \\gamma (1-\\theta)}{1-\\frac{\\Delta t}{\\Delta x^2}\\frac{\\kappa}{2}z+\\frac{\\Delta t}{\\Delta x^2}\\Delta t \\gamma \\theta}\n",
    "$$\n",
    "\n",
    "It is easily to see unconditional stability of $\\theta - method$ is for $\\theta \\geq 0.5$."
   ]
  },
  {
   "cell_type": "markdown",
   "metadata": {
    "deletable": false,
    "editable": false,
    "nbgrader": {
     "cell_type": "markdown",
     "checksum": "b33e6be3dcf07f23fe32c454bb9def24",
     "grade": false,
     "grade_id": "cell-7190104992439313",
     "locked": true,
     "schema_version": 3,
     "solution": false
    }
   },
   "source": [
    "**(c)** [10] Show that, if $\\theta = 0$, then the method  is stable provided $\\Delta t \\leq \\frac 2 \\gamma$, independent of $\\Delta x$."
   ]
  },
  {
   "cell_type": "markdown",
   "metadata": {
    "deletable": false,
    "nbgrader": {
     "cell_type": "markdown",
     "checksum": "4a6cf974d23fbc604f492b5b2f33acb3",
     "grade": true,
     "grade_id": "cell-2159161909797634",
     "locked": false,
     "points": 10,
     "schema_version": 3,
     "solution": true
    }
   },
   "source": [
    "## Answer to Question 2(c)\n",
    "\n",
    "If we want it be something stable, the absolute value will be smaller than 1, we then can get:\n",
    "\n",
    "$$\n",
    "g(\\xi) = \\frac{1 + \\frac{\\Delta t}{2\\Delta x^2}\\left(f(z) - 2\\Delta x^2 \\gamma \\right) }{1 - \\frac{\\Delta t}{2\\Delta x^2}f(z) }  \\leq 1\n",
    "$$\n",
    "\n",
    "$f(z) \\leq 0$ for all $\\xi$:\n",
    "\n",
    "$$\n",
    "\\begin{aligned}\n",
    "f(z) &\\leq 0\\\\  \n",
    "1 + \\frac{\\Delta t}{2\\Delta x^2}\\left(f(z) - 2\\Delta x^2 \\gamma \\right) &\\geq g(\\xi)\n",
    "\\end{aligned}\n",
    "$$\n",
    "\n",
    "Then we can have:\n",
    "\n",
    "$$\n",
    "\\begin{aligned}\n",
    "f(z) - 2\\Delta x^2 \\gamma &< 0\\\\\n",
    "f(z) &< -2\\Delta x^2 \\gamma\n",
    "\\end{aligned}\n",
    "$$\n",
    "\n",
    "Substitute $f(z) \\geq \\frac{-4\\Delta t}{\\Delta x^2}$.\n",
    "\n",
    "$$ \n",
    "\\frac{-4\\Delta t}{\\Delta x^2} \\leq -2\\Delta x^2 \\gamma \\\\\n",
    "\\Delta t \\leq \\frac{2}{\\gamma}\n",
    "$$"
   ]
  },
  {
   "cell_type": "markdown",
   "metadata": {
    "deletable": false,
    "editable": false,
    "nbgrader": {
     "cell_type": "markdown",
     "checksum": "99c8c40e6d6bfb51546b8068223b2110",
     "grade": false,
     "grade_id": "cell-4901849447719383",
     "locked": true,
     "schema_version": 3,
     "solution": false
    }
   },
   "source": [
    "## Question 3 - Leapfrog for the Heat Equation\n",
    "\n",
    "Consider the following method for solving the heat equation $u_t=u_{xx}$:\n",
    "$$\n",
    "U_i^{n+2} = U_i^n + \\frac{2 \\Delta t}{\\Delta x^2}(U_{i-1}^{n+1} - 2U_i^{n+1} + U_{i+1}^{n+1}).\n",
    "$$"
   ]
  },
  {
   "cell_type": "markdown",
   "metadata": {
    "deletable": false,
    "editable": false,
    "nbgrader": {
     "cell_type": "markdown",
     "checksum": "1ad4ae136032c43b76899e2ed361330a",
     "grade": false,
     "grade_id": "cell-4610070335672566",
     "locked": true,
     "schema_version": 3,
     "solution": false
    }
   },
   "source": [
    "**(a)** [15] Determine the order of accuracy of this method (in both space and time)."
   ]
  },
  {
   "cell_type": "markdown",
   "metadata": {
    "deletable": false,
    "nbgrader": {
     "cell_type": "markdown",
     "checksum": "7978dacba5009299b12358460342a79b",
     "grade": true,
     "grade_id": "cell-7717424009948329",
     "locked": false,
     "points": 15,
     "schema_version": 3,
     "solution": true
    }
   },
   "source": [
    "## Answer to Question 3 (a)\n",
    "\n",
    "We first rewrite the equation using $u(x, t)$ as below:\n",
    "\n",
    "$$\n",
    "u(x, t+2\\Delta t) = u(x, t) + \\frac{2 \\Delta t}{\\Delta x^2}(u(x-\\Delta x, t+\\Delta t) - 2u(x, t+\\Delta t) + u(x+\\Delta x, t+\\Delta t)).\n",
    "$$\n",
    "\n",
    "We first apply double variables taylor expansion on $u(x \\pm \\Delta x, t+\\Delta t)$, and get something below:\n",
    "\n",
    "$$\n",
    "u(x-\\Delta x, t+\\Delta t) = u(x,t) \\pm \\Delta x u_x(x,t) + \\Delta t u_t(x,t) + \\frac{\\Delta x^2}{2} u_{xx}(x,t) \\pm \\frac{\\Delta x \\Delta t}{2} u_{xt}(x,t) + \\frac{\\Delta t^2}{2} u_{tt}(x,t) + \\mathcal{O}(\\Delta x^3, \\Delta t^3)\n",
    "$$\n",
    "\n",
    "In order to simply the equation we can simply expand $u(x \\pm \\Delta x, t+\\Delta t)$ around $U^{n+1}_i$ instead of doing double variables Taylor expansion and got something below for the inner part:\n",
    "\n",
    "\n",
    "$$\n",
    "U_{i-1}^{n+1} - 2U_i^{n+1} + U_{i+1}^{n+1} = \\Delta x^2 u^{(2)}(x, t+\\Delta t) + \\frac{\\Delta x^4}{12} u^{(4)}(x, t+\\Delta t)\n",
    "$$\n",
    "\n",
    "We then expand $U_i^{n+2}$ in order to know the order of accuracy:\n",
    "\n",
    "$$\n",
    "U_i^{n+2} = u(x,t) + 2\\Delta t u_t(x,t) + \\frac{4 \\Delta t^2}{2}u_{tt}(x,t)+ \\frac{8\\Delta t^3}{6}u_{ttt}(x, t)+\\mathcal{O}(\\Delta t^4)\n",
    "$$\n",
    "\n",
    "We then calculate the truncation error of the method below\n",
    "\n",
    "$$\n",
    "U_i^{n+2} - U_i^n - \\frac{2 \\Delta t}{\\Delta x^2}(U_{i-1}^{n+1} - 2U_i^{n+1} + U_{i+1}^{n+1}) = 2\\Delta t u_t(x,t) + \\frac{4 \\Delta t^2}{2}u_{tt}(x,t)+ \\frac{8\\Delta t^3}{6}u_{ttt}(x, t)+\\mathcal{O}(\\Delta t^4) - \\frac{2 \\Delta t}{\\Delta x^2} \\left(\\Delta x^2 u^{(2)}(x, t+\\Delta t) + \\frac{\\Delta x^4}{12} u^{(4)}(x, t+\\Delta t)\\right)\\\\\n",
    "$$\n",
    "\n",
    "We also know $u_t = u_{xx}$ and substitute this equation into our formula above and we can get the order of accuracy should by 2 for both spatial and time"
   ]
  },
  {
   "cell_type": "markdown",
   "metadata": {
    "deletable": false,
    "editable": false,
    "nbgrader": {
     "cell_type": "markdown",
     "checksum": "108b935fe83edd960e7cf78c0a794280",
     "grade": false,
     "grade_id": "cell-3092555563922332",
     "locked": true,
     "schema_version": 3,
     "solution": false
    }
   },
   "source": [
    "**(b)** [10] Suppose we take $\\Delta t=\\alpha \\Delta x^2$ for some fixed $\\alpha>0$ and refine the grid.  For what values of $\\alpha$ (if any) will this method be Lax-Richtmyer stable and hence convergent?  \n",
    "\n",
    "_HINT:_ Consider the method-of-lines interpretation and the stability region of\n",
    "the time-discretization being used."
   ]
  },
  {
   "cell_type": "markdown",
   "metadata": {
    "deletable": false,
    "nbgrader": {
     "cell_type": "markdown",
     "checksum": "2aee23d32b1ed570f7561068e3e1b510",
     "grade": true,
     "grade_id": "cell-8347565573517679",
     "locked": false,
     "points": 10,
     "schema_version": 3,
     "solution": true
    }
   },
   "source": [
    "## Answer to Question 3(b)\n",
    "\n",
    "\n",
    "Since the linear method of the Lax-Richtmyer stablility is something below:\n",
    "$$\n",
    "    U^{n+1} = B(\\Delta t) U^n + b^n(\\Delta t)\n",
    "$$\n",
    "\n",
    "We then aim at finding the equation that contains $U^{n+1}, B(\\Delta t), U^n$ all\n",
    "\n",
    "For the given heat equation $u_{t}=u_{x x}$, we can approximate $u_{x x}$ by the centered difference and have:\n",
    "\n",
    "$$\n",
    "u_{i}^{\\prime}(t)=\\frac{1}{\\Delta x^{2}}\\left(u_{i+1}(t)-2 u_{i}(t)+u_{i-1}(t)\\right)\n",
    "$$\n",
    "\n",
    "We then can get a system of time-dependence ODEs as below:\n",
    "\n",
    "$$\n",
    "U^{\\prime}(t) = \\frac{1}{\\Delta x^2}\\begin{bmatrix}\n",
    "-2 & 1 \\\\\n",
    "1 & -2 & 1 \\\\\n",
    "& 1 & -2 & 1 \\\\\n",
    "& & \\ddots & \\ddots & \\ddots \\\\\n",
    "& & & 1 & -2 & 1 \\\\\n",
    "& & & & 1 & -2\n",
    "\\end{bmatrix} U(t)\n",
    "$$\n",
    "\n",
    "We can first suppose some boundary conditions and do the calculation since we will know later that no matter what BC we suppose, they will not affect the final outcome!\n",
    "\n",
    "Suppose Pure Dirichlet boundary conditions and we know the eigenvalues will be:\n",
    "\n",
    "$$\n",
    "\\lambda_{j}=-\\frac{4}{h^{2}} \\sin ^{2}\\left(\\frac{\\pi j}{2(n+1)}\\right)\n",
    "$$\n",
    "\n",
    "Since the definition of spectral radius is the megnitude of the largest eigenvalue. We take the range of $Sin(x)$ into consideration and will know that the spectral radius will definitely be:\n",
    "\n",
    "$$\n",
    "\\lambda_{j}=\\frac{4}{h^{2}} = \\frac{4}{\\Delta x^2}\n",
    "$$\n",
    "\n",
    "We rewrite the ODE and calculate the stable region and can get one of the condition as the equation below:\n",
    "$$\n",
    "\\sqrt{(1+2\\alpha -3\\alpha^2)}\n",
    "$$\n",
    "\n",
    "We know the inner part should larger than 0 then we can know $\\alpha$ should be smaller than 1.\n",
    "\n",
    "We can also do the calculation from analyzing the stability of Leapfrog. I got the equation below from 4300 by setting $U^{n+2} = U^{n+1} \\xi = U^n \\xi^2$\n",
    "\n",
    "$$\n",
    "\\xi^2 -z\\xi -1 = 0\n",
    "$$\n",
    "\n",
    "We then know the roots should be:\n",
    "\n",
    "$$\n",
    "\\xi_{1,2} = z \\pm \\sqrt{z^2 + 1}\n",
    "$$\n",
    "\n",
    "Actually we know that leapfrog is not a stable method since we could not make both roots larger than 1 at the same time by the following proof:\n",
    "\n",
    "$$\n",
    "|\\xi_1 \\cdot \\xi_2| = 1 = |\\xi_1||\\xi_2|\n",
    "$$\n",
    "\n",
    "From the textbook we know it can be shown that if z is a pure imaginary number of the form $z = i\\alpha$ with $|\\alpha |< 1$, then$|\\xi_1| =|\\xi_2| = 1$"
   ]
  },
  {
   "cell_type": "markdown",
   "metadata": {
    "deletable": false,
    "editable": false,
    "nbgrader": {
     "cell_type": "markdown",
     "checksum": "62253d2eb2fc32a46dbdf82bd040d069",
     "grade": false,
     "grade_id": "cell-2476951957211607",
     "locked": true,
     "schema_version": 3,
     "solution": false
    }
   },
   "source": [
    "**(c)** [5] Is this a useful method?"
   ]
  },
  {
   "cell_type": "markdown",
   "metadata": {
    "deletable": false,
    "nbgrader": {
     "cell_type": "markdown",
     "checksum": "d685bbafa687157d61670ade3ba506b2",
     "grade": true,
     "grade_id": "cell-7709503074595457",
     "locked": false,
     "points": 5,
     "schema_version": 3,
     "solution": true
    }
   },
   "source": [
    "## Answer to Question 3(c)\n",
    "\n",
    "This is not quite a useful method since there are some restrictions on the relationship between $\\Delta t$ and $\\Delta x$ and only when $\\Delta t$ is relatively small, or lets say $\\frac{\\Delta t}{\\Delta x^2} \\leq 1$,then the method will be stable.\n",
    "\n",
    "The stability region consists only of the open interval from $-i$ to $i$ on the imaginary axis\n",
    "\n",
    "We know from the notes that Crank-Nicholson is a relatively stable method regardless of the choice of $\\Delta t$ and $\\Delta x$"
   ]
  }
 ],
 "metadata": {
  "kernelspec": {
   "display_name": "Python 3 (ipykernel)",
   "language": "python",
   "name": "python3"
  },
  "language_info": {
   "codemirror_mode": {
    "name": "ipython",
    "version": 3
   },
   "file_extension": ".py",
   "mimetype": "text/x-python",
   "name": "python",
   "nbconvert_exporter": "python",
   "pygments_lexer": "ipython3",
   "version": "3.9.7"
  },
  "latex_envs": {
   "bibliofile": "biblio.bib",
   "cite_by": "apalike",
   "current_citInitial": 1,
   "eqLabelWithNumbers": true,
   "eqNumInitial": 0
  }
 },
 "nbformat": 4,
 "nbformat_minor": 4
}
