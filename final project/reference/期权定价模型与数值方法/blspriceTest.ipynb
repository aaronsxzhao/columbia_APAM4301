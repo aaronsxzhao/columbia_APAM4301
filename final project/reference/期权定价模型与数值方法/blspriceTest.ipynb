{
 "cells": [
  {
   "cell_type": "code",
   "execution_count": 1,
   "metadata": {},
   "outputs": [
    {
     "name": "stdout",
     "output_type": "stream",
     "text": [
      "\n",
      "CallDelta =\n",
      "\n",
      "   13.6953\n",
      "\n",
      "\n",
      "PutDelta =\n",
      "\n",
      "    6.3497\n",
      "\n",
      "\n"
     ]
    }
   ],
   "source": [
    "%标底资产价格\n",
    "Price=100;\n",
    "%执行价格\n",
    "Strike=95; \n",
    "%无风险收益率（年化）\n",
    "Rate=0.1;%10%\n",
    "%剩余时间\n",
    "Time=3/12;%=0.25;\n",
    "%年化波动率\n",
    "Volatility=0.5;\n",
    "[CallDelta, PutDelta] = blsprice(Price, Strike, Rate, Time, Volatility) \n"
   ]
  }
 ],
 "metadata": {
  "kernelspec": {
   "display_name": "Matlab",
   "language": "matlab",
   "name": "matlab"
  },
  "language_info": {
   "codemirror_mode": "octave",
   "file_extension": ".m",
   "help_links": [
    {
     "text": "MetaKernel Magics",
     "url": "https://github.com/calysto/metakernel/blob/master/metakernel/magics/README.md"
    }
   ],
   "mimetype": "text/x-octave",
   "name": "matlab",
   "version": "0.15.0"
  },
  "toc": {
   "base_numbering": 1,
   "nav_menu": {},
   "number_sections": true,
   "sideBar": true,
   "skip_h1_title": false,
   "title_cell": "Table of Contents",
   "title_sidebar": "Contents",
   "toc_cell": false,
   "toc_position": {},
   "toc_section_display": true,
   "toc_window_display": false
  }
 },
 "nbformat": 4,
 "nbformat_minor": 2
}
