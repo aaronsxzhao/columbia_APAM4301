{
 "cells": [
  {
   "cell_type": "markdown",
   "metadata": {},
   "source": [
    "例10.5 假设欧式股票期权，六个月后到期，执行价格为95元，现价为100元，无股利支付，股价年化波动率为50%，无风险利率为10%，计算期权价格（P184）"
   ]
  },
  {
   "cell_type": "code",
   "execution_count": 1,
   "metadata": {},
   "outputs": [
    {
     "name": "stdout",
     "output_type": "stream",
     "text": [
      "\n",
      "AssetPrice =\n",
      "\n",
      "  100.0000  115.5274  133.4658  154.1896  178.1312  205.7904  237.7443\n",
      "         0   86.5596  100.0000  115.5274  133.4658  154.1896  178.1312\n",
      "         0         0   74.9256   86.5596  100.0000  115.5274  133.4658\n",
      "         0         0         0   64.8552   74.9256   86.5596  100.0000\n",
      "         0         0         0         0   56.1384   64.8552   74.9256\n",
      "         0         0         0         0         0   48.5931   56.1384\n",
      "         0         0         0         0         0         0   42.0620\n",
      "\n",
      "\n",
      "OptionValue =\n",
      "\n",
      "   18.7590   28.7934   42.8646   61.5351   84.7014  111.5787  142.7443\n",
      "         0    9.3164   15.5932   25.4266   40.0360   59.9780   83.1312\n",
      "         0         0    3.3699    6.2939   11.6477   21.3158   38.4658\n",
      "         0         0         0    0.5838    1.1945    2.4439    5.0000\n",
      "         0         0         0         0         0         0         0\n",
      "         0         0         0         0         0         0         0\n",
      "         0         0         0         0         0         0         0\n",
      "\n",
      "\n"
     ]
    }
   ],
   "source": [
    "%%\n",
    "%标的资产价格\n",
    "Price=100;\n",
    "%执行价格\n",
    "Strike=95; \n",
    "%无风险收益率（年化）\n",
    "Rate=0.1;%10%\n",
    "%剩余时间\n",
    "Time=6/12;%;\n",
    "%看涨期权 \n",
    "flag=1;\n",
    "%每阶段间个1个月\n",
    "Increment=1/12;\n",
    "%波动率 \n",
    "Volatility=0.5;\n",
    "%调用binprice函数\n",
    "[AssetPrice, OptionValue] = binprice(Price, Strike, Rate, Time, Increment, Volatility, flag)"
   ]
  },
  {
   "cell_type": "code",
   "execution_count": null,
   "metadata": {},
   "outputs": [],
   "source": []
  }
 ],
 "metadata": {
  "kernelspec": {
   "display_name": "Matlab",
   "language": "matlab",
   "name": "matlab"
  },
  "language_info": {
   "codemirror_mode": "octave",
   "file_extension": ".m",
   "help_links": [
    {
     "text": "MetaKernel Magics",
     "url": "https://github.com/calysto/metakernel/blob/master/metakernel/magics/README.md"
    }
   ],
   "mimetype": "text/x-octave",
   "name": "matlab",
   "version": "0.15.0"
  },
  "toc": {
   "base_numbering": 1,
   "nav_menu": {},
   "number_sections": false,
   "sideBar": true,
   "skip_h1_title": false,
   "title_cell": "Table of Contents",
   "title_sidebar": "Contents",
   "toc_cell": false,
   "toc_position": {},
   "toc_section_display": true,
   "toc_window_display": false
  }
 },
 "nbformat": 4,
 "nbformat_minor": 2
}
