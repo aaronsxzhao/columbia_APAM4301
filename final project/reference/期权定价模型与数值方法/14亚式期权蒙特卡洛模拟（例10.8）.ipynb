{
 "cells": [
  {
   "cell_type": "markdown",
   "metadata": {},
   "source": [
    "需要调用函数AsianMC()"
   ]
  },
  {
   "cell_type": "code",
   "execution_count": 3,
   "metadata": {},
   "outputs": [
    {
     "name": "stdout",
     "output_type": "stream",
     "text": [
      "\n",
      "P =\n",
      "\n",
      "    3.9939\n",
      "\n",
      "\n",
      "aux =\n",
      "\n",
      "    5.9456\n",
      "\n",
      "\n",
      "CI =\n",
      "\n",
      "    3.9418\n",
      "    4.0460\n",
      "\n",
      "\n"
     ]
    }
   ],
   "source": [
    "%%\n",
    "randn('state',0)\n",
    "[P,aux,CI] = AsianMC(50,50,0.1,5/12,0.4,5,50000)"
   ]
  },
  {
   "cell_type": "markdown",
   "metadata": {},
   "source": [
    "可以使用控制变量技术（Control Variables）技术提高估计的精度，函数为AsianMCCV()"
   ]
  },
  {
   "cell_type": "code",
   "execution_count": 5,
   "metadata": {},
   "outputs": [
    {
     "name": "stdout",
     "output_type": "stream",
     "text": [
      "\n",
      "P =\n",
      "\n",
      "    3.9697\n",
      "\n",
      "\n",
      "aux =\n",
      "\n",
      "    2.4668\n",
      "\n",
      "\n",
      "CI =\n",
      "\n",
      "    3.9469\n",
      "    3.9925\n",
      "\n",
      "\n"
     ]
    }
   ],
   "source": [
    "%%\n",
    "[P,aux,CI] = AsianMCCV(50,50,0.1,5/12,0.4,5,45000,5000)"
   ]
  }
 ],
 "metadata": {
  "kernelspec": {
   "display_name": "Matlab",
   "language": "matlab",
   "name": "matlab"
  },
  "language_info": {
   "codemirror_mode": "octave",
   "file_extension": ".m",
   "help_links": [
    {
     "text": "MetaKernel Magics",
     "url": "https://github.com/calysto/metakernel/blob/master/metakernel/magics/README.md"
    }
   ],
   "mimetype": "text/x-octave",
   "name": "matlab",
   "version": "0.15.0"
  },
  "toc": {
   "base_numbering": 1,
   "nav_menu": {},
   "number_sections": false,
   "sideBar": true,
   "skip_h1_title": false,
   "title_cell": "Table of Contents",
   "title_sidebar": "Contents",
   "toc_cell": false,
   "toc_position": {},
   "toc_section_display": true,
   "toc_window_display": false
  }
 },
 "nbformat": 4,
 "nbformat_minor": 2
}
