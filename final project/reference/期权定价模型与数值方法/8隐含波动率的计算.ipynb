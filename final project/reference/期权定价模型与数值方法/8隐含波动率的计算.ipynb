{
 "cells": [
  {
   "cell_type": "markdown",
   "metadata": {},
   "source": [
    "利用Finance工具箱自带的隐含波动率计算函数blsimpv的应用举例（P181-182）"
   ]
  },
  {
   "cell_type": "code",
   "execution_count": 1,
   "metadata": {},
   "outputs": [
    {
     "name": "stdout",
     "output_type": "stream",
     "text": [
      "\n",
      "Volatility =\n",
      "\n",
      "    0.1417\n",
      "\n",
      "\n"
     ]
    }
   ],
   "source": [
    "%%\n",
    "%标底资产价格\n",
    "Price=100;\n",
    "%执行价格\n",
    "Strike=95; \n",
    "%无风险收益率（年化）\n",
    "Rate=0.1;%10%\n",
    "%剩余时间\n",
    "Time=1;%;\n",
    "%看涨期权市价10元 \n",
    "Value=15;\n",
    "%看涨期权 Class=1 （默认）\n",
    "Volatility = blsimpv(Price, Strike, Rate, Time, Value)"
   ]
  }
 ],
 "metadata": {
  "kernelspec": {
   "display_name": "Matlab",
   "language": "matlab",
   "name": "matlab"
  },
  "language_info": {
   "codemirror_mode": "octave",
   "file_extension": ".m",
   "help_links": [
    {
     "text": "MetaKernel Magics",
     "url": "https://github.com/calysto/metakernel/blob/master/metakernel/magics/README.md"
    }
   ],
   "mimetype": "text/x-octave",
   "name": "matlab",
   "version": "0.15.0"
  },
  "toc": {
   "base_numbering": 1,
   "nav_menu": {},
   "number_sections": false,
   "sideBar": true,
   "skip_h1_title": false,
   "title_cell": "Table of Contents",
   "title_sidebar": "Contents",
   "toc_cell": false,
   "toc_position": {},
   "toc_section_display": true,
   "toc_window_display": false
  }
 },
 "nbformat": 4,
 "nbformat_minor": 2
}
