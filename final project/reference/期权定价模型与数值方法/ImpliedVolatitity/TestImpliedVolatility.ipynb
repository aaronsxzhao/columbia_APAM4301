{
 "cells": [
  {
   "cell_type": "code",
   "execution_count": 1,
   "metadata": {},
   "outputs": [
    {
     "name": "stdout",
     "output_type": "stream",
     "text": [
      "\n",
      "Equation solved.\n",
      "\n",
      "fsolve completed because the vector of function values is near zero\n",
      "as measured by the default value of the function tolerance, and\n",
      "the problem appears regular as measured by the gradient.\n",
      "\n",
      "\n",
      "\n",
      "\n",
      "Equation solved.\n",
      "\n",
      "fsolve completed because the vector of function values is near zero\n",
      "as measured by the default value of the function tolerance, and\n",
      "the problem appears regular as measured by the gradient.\n",
      "\n",
      "\n",
      "\n",
      "\n",
      "Vc =\n",
      "\n",
      "    0.1417\n",
      "\n",
      "\n",
      "Vp =\n",
      "\n",
      "    0.3479\n",
      "\n",
      "\n",
      "Cfval =\n",
      "\n",
      "   3.8597e-11\n",
      "\n",
      "\n",
      "Pfval =\n",
      "\n",
      "  -3.5527e-15\n",
      "\n",
      "\n"
     ]
    }
   ],
   "source": [
    "%TestImpliedVolatility\n",
    "Price=100;\n",
    "Strike=95;\n",
    "Rate=0.10;\n",
    "Time=1.0;\n",
    "CallPrice=15.0;\n",
    "PutPrice=7.0;\n",
    "[Vc,Vp,Cfval,Pfval]=ImpliedVolatility(Price,Strike,Rate,Time,CallPrice,PutPrice)"
   ]
  }
 ],
 "metadata": {
  "kernelspec": {
   "display_name": "Matlab",
   "language": "matlab",
   "name": "matlab"
  },
  "language_info": {
   "codemirror_mode": "octave",
   "file_extension": ".m",
   "help_links": [
    {
     "text": "MetaKernel Magics",
     "url": "https://github.com/calysto/metakernel/blob/master/metakernel/magics/README.md"
    }
   ],
   "mimetype": "text/x-octave",
   "name": "matlab",
   "version": "0.15.0"
  },
  "toc": {
   "base_numbering": 1,
   "nav_menu": {},
   "number_sections": true,
   "sideBar": true,
   "skip_h1_title": false,
   "title_cell": "Table of Contents",
   "title_sidebar": "Contents",
   "toc_cell": false,
   "toc_position": {},
   "toc_section_display": true,
   "toc_window_display": false
  }
 },
 "nbformat": 4,
 "nbformat_minor": 2
}
