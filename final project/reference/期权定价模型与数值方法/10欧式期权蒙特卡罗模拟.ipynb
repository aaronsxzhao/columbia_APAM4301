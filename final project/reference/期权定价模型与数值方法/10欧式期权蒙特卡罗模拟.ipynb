{
 "cells": [
  {
   "cell_type": "markdown",
   "metadata": {},
   "source": [
    "MC模拟方法计算欧式看涨期权价格（P189）\n",
    "\n",
    "调用函数BlsMCIS()"
   ]
  },
  {
   "cell_type": "code",
   "execution_count": 1,
   "metadata": {},
   "outputs": [
    {
     "name": "stdout",
     "output_type": "stream",
     "text": [
      "\n",
      "Price =\n",
      "\n",
      "    4.4791\n",
      "\n",
      "\n",
      "VarPrice =\n",
      "\n",
      "    7.8042\n",
      "\n",
      "\n",
      "CI =\n",
      "\n",
      "    3.9948\n",
      "    4.9634\n",
      "\n",
      "\n"
     ]
    }
   ],
   "source": [
    "%%\n",
    "[Price,VarPrice,CI] = BlsMCIS(50,52,0.1,5/12,0.4,1000)"
   ]
  },
  {
   "cell_type": "markdown",
   "metadata": {},
   "source": [
    "欧式期权的解析公式计算如下："
   ]
  },
  {
   "cell_type": "code",
   "execution_count": 4,
   "metadata": {},
   "outputs": [
    {
     "name": "stdout",
     "output_type": "stream",
     "text": [
      "\n",
      "call =\n",
      "\n",
      "    5.1911\n",
      "\n",
      "\n",
      "put =\n",
      "\n",
      "    5.0689\n",
      "\n",
      "\n"
     ]
    }
   ],
   "source": [
    "%%\n",
    "[call,put]=blsprice(50,52,0.1,5/12,0.4)"
   ]
  },
  {
   "cell_type": "markdown",
   "metadata": {},
   "source": [
    "为了提高模拟计算效果，可增加模拟次数或者设置不同的随机数初始状态。增加模拟次数，精度可能会有所改善。"
   ]
  },
  {
   "cell_type": "code",
   "execution_count": 5,
   "metadata": {},
   "outputs": [
    {
     "name": "stdout",
     "output_type": "stream",
     "text": [
      "\n",
      "Price =\n",
      "\n",
      "    5.1826\n",
      "\n",
      "\n",
      "VarPrice =\n",
      "\n",
      "    9.0272\n",
      "\n",
      "\n",
      "CI =\n",
      "\n",
      "    5.0056\n",
      "    5.3596\n",
      "\n",
      "\n"
     ]
    }
   ],
   "source": [
    "%%\n",
    "[Price,VarPrice,CI] = BlsMCIS(50,52,0.1,5/12,0.4,10000)"
   ]
  },
  {
   "cell_type": "code",
   "execution_count": null,
   "metadata": {},
   "outputs": [],
   "source": []
  }
 ],
 "metadata": {
  "kernelspec": {
   "display_name": "Matlab",
   "language": "matlab",
   "name": "matlab"
  },
  "language_info": {
   "codemirror_mode": "octave",
   "file_extension": ".m",
   "help_links": [
    {
     "text": "MetaKernel Magics",
     "url": "https://github.com/calysto/metakernel/blob/master/metakernel/magics/README.md"
    }
   ],
   "mimetype": "text/x-octave",
   "name": "matlab",
   "version": "0.15.0"
  },
  "toc": {
   "base_numbering": 1,
   "nav_menu": {},
   "number_sections": false,
   "sideBar": true,
   "skip_h1_title": false,
   "title_cell": "Table of Contents",
   "title_sidebar": "Contents",
   "toc_cell": false,
   "toc_position": {},
   "toc_section_display": true,
   "toc_window_display": false
  }
 },
 "nbformat": 4,
 "nbformat_minor": 2
}
