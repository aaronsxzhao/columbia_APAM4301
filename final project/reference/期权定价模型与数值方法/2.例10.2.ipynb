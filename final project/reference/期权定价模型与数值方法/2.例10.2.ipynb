{
 "cells": [
  {
   "cell_type": "markdown",
   "metadata": {},
   "source": [
    "例10.2 假设欧式股票期权，三个月后到期，执行价格95元，现价为100元，无股利支付，股价年化波动率为50%，无风险利率为10%，计算期权价格"
   ]
  },
  {
   "cell_type": "code",
   "execution_count": 2,
   "metadata": {},
   "outputs": [
    {
     "name": "stdout",
     "output_type": "stream",
     "text": [
      "\n",
      "Call =\n",
      "\n",
      "   13.6953\n",
      "\n",
      "\n",
      "Put =\n",
      "\n",
      "    6.3497\n",
      "\n",
      "\n"
     ]
    }
   ],
   "source": [
    "%%\n",
    "%标底资产价格\n",
    "Price=100;\n",
    "%执行价格\n",
    "Strike=95; \n",
    "%无风险收益率（年化）10%\n",
    "Rate=0.1;\n",
    "%剩余时间\n",
    "Time=3/12;\n",
    "%年化波动率\n",
    "Volatility=0.5;\n",
    "[Call, Put] = blsprice(100, 95, 0.1, 0.25, 0.5)   %Call买入期权，Put为卖出期权"
   ]
  },
  {
   "cell_type": "code",
   "execution_count": null,
   "metadata": {},
   "outputs": [],
   "source": []
  }
 ],
 "metadata": {
  "kernelspec": {
   "display_name": "Matlab",
   "language": "matlab",
   "name": "matlab"
  },
  "language_info": {
   "codemirror_mode": "octave",
   "file_extension": ".m",
   "help_links": [
    {
     "text": "MetaKernel Magics",
     "url": "https://github.com/calysto/metakernel/blob/master/metakernel/magics/README.md"
    }
   ],
   "mimetype": "text/x-octave",
   "name": "matlab",
   "version": "0.15.0"
  },
  "toc": {
   "base_numbering": 1,
   "nav_menu": {},
   "number_sections": false,
   "sideBar": true,
   "skip_h1_title": false,
   "title_cell": "Table of Contents",
   "title_sidebar": "Contents",
   "toc_cell": false,
   "toc_position": {},
   "toc_section_display": true,
   "toc_window_display": false
  }
 },
 "nbformat": 4,
 "nbformat_minor": 2
}
