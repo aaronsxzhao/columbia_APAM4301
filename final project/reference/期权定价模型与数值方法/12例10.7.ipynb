{
 "cells": [
  {
   "cell_type": "markdown",
   "metadata": {},
   "source": [
    "（P192）例10.7 考虑一个欧式看跌股票期权，股票价格为50元，看跌期权的执行价格是50元，无风险利率为0.1，时间为5个月，股票年波动率的标准差为0.4，计算期权的价值。"
   ]
  },
  {
   "cell_type": "code",
   "execution_count": 2,
   "metadata": {},
   "outputs": [
    {
     "name": "stdout",
     "output_type": "stream",
     "text": [
      "\n",
      "call =\n",
      "\n",
      "    6.1165\n",
      "\n",
      "\n",
      "put =\n",
      "\n",
      "    4.0760\n",
      "\n",
      "\n"
     ]
    }
   ],
   "source": [
    "%%\n",
    "[call,put]=blsprice(50,50,0.1,5/12,0.4)"
   ]
  }
 ],
 "metadata": {
  "kernelspec": {
   "display_name": "Matlab",
   "language": "matlab",
   "name": "matlab"
  },
  "language_info": {
   "codemirror_mode": "octave",
   "file_extension": ".m",
   "help_links": [
    {
     "text": "MetaKernel Magics",
     "url": "https://github.com/calysto/metakernel/blob/master/metakernel/magics/README.md"
    }
   ],
   "mimetype": "text/x-octave",
   "name": "matlab",
   "version": "0.15.0"
  },
  "toc": {
   "base_numbering": 1,
   "nav_menu": {},
   "number_sections": false,
   "sideBar": true,
   "skip_h1_title": false,
   "title_cell": "Table of Contents",
   "title_sidebar": "Contents",
   "toc_cell": false,
   "toc_position": {},
   "toc_section_display": true,
   "toc_window_display": false
  }
 },
 "nbformat": 4,
 "nbformat_minor": 2
}
