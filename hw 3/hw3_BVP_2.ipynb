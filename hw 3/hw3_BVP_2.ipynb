{
 "cells": [
  {
   "cell_type": "code",
   "execution_count": 1,
   "metadata": {},
   "outputs": [],
   "source": [
    "%matplotlib inline\n",
    "%precision 8\n",
    "from __future__ import print_function\n",
    "import numpy\n",
    "import matplotlib.pyplot as plt"
   ]
  },
  {
   "cell_type": "markdown",
   "metadata": {
    "deletable": false,
    "editable": false,
    "nbgrader": {
     "cell_type": "markdown",
     "checksum": "ef2b28feae58cf2edd9af7c8a38b6fcb",
     "grade": false,
     "grade_id": "cell-163692534010521",
     "locked": true,
     "schema_version": 3,
     "solution": false
    }
   },
   "source": [
    "Before you turn this problem in, make sure everything runs as expected. First, restart the kernel (in the menubar, select Kernel $\\rightarrow$ Restart) and then run all cells (in the menubar, select Cell $\\rightarrow$ Run All).\n",
    "\n",
    "Make sure you fill in any place that says YOUR CODE HERE or \"YOUR ANSWER HERE\", as well as your name and collaborators below:"
   ]
  },
  {
   "cell_type": "markdown",
   "metadata": {},
   "source": [
    "name: Vincent Zhao"
   ]
  },
  {
   "cell_type": "markdown",
   "metadata": {
    "deletable": false,
    "editable": false,
    "nbgrader": {
     "cell_type": "markdown",
     "checksum": "e41ce61050ad8b254c5d43af654ab206",
     "grade": false,
     "grade_id": "cell-7249716820754628",
     "locked": true,
     "schema_version": 3,
     "solution": false
    }
   },
   "source": [
    "# HW 3: BVP Problems II"
   ]
  },
  {
   "cell_type": "markdown",
   "metadata": {
    "deletable": false,
    "editable": false,
    "nbgrader": {
     "cell_type": "markdown",
     "checksum": "1bc36a935ea59c80bcb65e0cd2eaa8ae",
     "grade": false,
     "grade_id": "cell-1516619636280155",
     "locked": true,
     "schema_version": 3,
     "solution": false
    }
   },
   "source": [
    "## Question 1 - 9 Point Laplacian\n",
    "\n",
    "Consider the two-dimensional Poisson problem defined as\n",
    "$$\n",
    "    \\nabla^2 u = f(x,y) ~~~~ \\Omega = [0, 1] \\times [0, 1]\n",
    "$$\n",
    "with Dirichlet boundary conditions $u(x,y)|_{\\partial \\Omega} = 0$.\n",
    "\n",
    "Note that the notation $\\partial \\Omega$ often refers to the boundary of $\\Omega$ and $u(x,y)|_{\\partial \\Omega}$ the solution evaluted at the boundary."
   ]
  },
  {
   "cell_type": "markdown",
   "metadata": {
    "deletable": false,
    "editable": false,
    "nbgrader": {
     "cell_type": "markdown",
     "checksum": "dba24138837c08ac9a93452eb8a575ca",
     "grade": false,
     "grade_id": "cell-6540906372372899",
     "locked": true,
     "schema_version": 3,
     "solution": false
    }
   },
   "source": [
    "**(a)** [5] If we wanted to consider solutions of the form\n",
    "$$\n",
    "    u(x,y) = (y^3 - y) (\\cos(2 \\pi x) - 1)\n",
    "$$\n",
    "what should we require $f(x,y)$ to be?  Is this consistent with the boundary conditions?  This technique of assuming a solution and finding what forcing function would give you that solution is called the **Method of Manufactured Solutions** and is a good way to test numerical methods."
   ]
  },
  {
   "cell_type": "markdown",
   "metadata": {
    "deletable": false,
    "nbgrader": {
     "cell_type": "markdown",
     "checksum": "9b9de003f778c4f10f3e9ef78fe6c02c",
     "grade": true,
     "grade_id": "cell-1447929132872462",
     "locked": false,
     "points": 5,
     "schema_version": 3,
     "solution": true
    }
   },
   "source": [
    "**Answer to Question 1 (a)**\n",
    "\n",
    "Since we have the prescribed function $u_{xx}+u_{yy}=f(x,y)$, we can find $u_{xx}$ and $u_{yy}$ by taking the double derivative\n",
    "\n",
    "We first calculate $u_{xx}$: \n",
    "\n",
    "$$\n",
    "\\begin{aligned}\n",
    "u(x)&=(y^3-y)*cos(2\\pi x)-(y^3-y)\\\\\n",
    "u_x&=-2\\pi (y^3-y)*sin(2\\pi x)\\\\\n",
    "u_{xx}&=-4\\pi^2 (y^3-y)*cos(2\\pi x)\\\\\n",
    "u_{xx}&=-4\\pi^2(y^3-y)cos(2\\pi x)\\\\\n",
    "\\end{aligned}\n",
    "$$\n",
    "\n",
    "To find $u_{yy}$ we now instead assume that $(cos(2\\pi x)-1)=c$, a constant:\n",
    "\n",
    "$$\n",
    "\\begin{aligned}\n",
    "u(y)&=(cos(2\\pi x)-1)y^3-(cos(2\\pi x)-1)y\\\\\n",
    "u_y&=3(cos(2\\pi x)-1)y^2-(cos(2\\pi x)-1)\\\\\n",
    "u_{yy}&=6(cos(2\\pi x)-1)y\\\\\n",
    "u_{yy}&=6ycos(2\\pi x)-6y\\\\\n",
    "\\end{aligned}\n",
    "$$\n",
    "\n",
    "We then simply substitute those equations into our initial function\n",
    "\n",
    "$$\n",
    "\\begin{aligned}\n",
    "f(x,y)&=u_{yy}+u_{xx}\\\\\n",
    "f(x,y)&=6ycos(2\\pi x)-6y-4\\pi^2(y^3-y)cos(2\\pi x)\\\\\n",
    "\\end{aligned}\n",
    "$$\n",
    "\n",
    "The boundary conditions are either $0$ or $1$ for $x$ or $y$ gives us $u(x,y)=0$."
   ]
  },
  {
   "cell_type": "markdown",
   "metadata": {
    "deletable": false,
    "editable": false,
    "nbgrader": {
     "cell_type": "markdown",
     "checksum": "c920dfd9a4af91f57cff64249a925f69",
     "grade": false,
     "grade_id": "cell-3183645985631593",
     "locked": true,
     "schema_version": 3,
     "solution": false
    }
   },
   "source": [
    "**(b)** [10] Implement a finite difference method for the problem above with grid spacing $\\Delta x = \\Delta y$ using a 9-point Laplacian."
   ]
  },
  {
   "cell_type": "code",
   "execution_count": 2,
   "metadata": {
    "deletable": false,
    "jupyter": {
     "outputs_hidden": true
    },
    "nbgrader": {
     "cell_type": "code",
     "checksum": "1f64329de1a7b3e3ae792e8db61832c9",
     "grade": false,
     "grade_id": "cell-1546965269985574",
     "locked": false,
     "schema_version": 3,
     "solution": true
    }
   },
   "outputs": [],
   "source": [
    "# Suggested modules to use to construct matrix A\n",
    "# You do not have to use these, they just may be helpful\n",
    "import scipy.sparse as sparse\n",
    "import scipy.sparse.linalg as linalg\n",
    "\n",
    "def solve_9point(m, f):\n",
    "\n",
    "    x = numpy.linspace(0, 1, m + 2)\n",
    "    y = numpy.linspace(0, 1, m + 2)\n",
    "    delta_x = x[1]-x[0]\n",
    "\n",
    "    #Construct A\n",
    "    e = numpy.ones(m)\n",
    "    S = sparse.spdiags([-1*e, -10*e, -1*e], [-1, 0, 1], m, m)\n",
    "    I = sparse.spdiags([-1/2*e, e, -1/2*e], [-1, 0, 1], m, m)\n",
    "    A = sparse.kron(I,S)+sparse.kron(S,I)\n",
    "    A /= 6*(delta_x**2)\n",
    "    \n",
    "    #RHS\n",
    "    X, Y = numpy.meshgrid(x[1:-1], y[1:-1])\n",
    "    f = f(X,Y)\n",
    "    \n",
    "    #Solve\n",
    "    U = numpy.zeros((m+2, m+2))\n",
    "    U[1:-1, 1:-1] = linalg.spsolve(A, f.reshape(m**2, order='F')).reshape((m, m), order='F')\n",
    "    \n",
    "    return x, y, U"
   ]
  },
  {
   "cell_type": "code",
   "execution_count": 3,
   "metadata": {
    "deletable": false,
    "editable": false,
    "jupyter": {
     "outputs_hidden": true
    },
    "nbgrader": {
     "cell_type": "code",
     "checksum": "63a2a1aefa3907d5faf9190afca3d90e",
     "grade": true,
     "grade_id": "cell-7233410316345997",
     "locked": true,
     "points": 10,
     "schema_version": 3,
     "solution": false
    }
   },
   "outputs": [
    {
     "name": "stdout",
     "output_type": "stream",
     "text": [
      "0.00026543132573200344\n",
      "Success!\n"
     ]
    }
   ],
   "source": [
    "f = lambda x, y: -(20.0 * y**3 + 9.0 * numpy.pi**2 * (y - y**5)) * numpy.sin(3.0 * numpy.pi * x)\n",
    "u_true = lambda x, y: (y - y**5) * numpy.sin(3.0 * numpy.pi * x)\n",
    "\n",
    "x, y, U = solve_9point(100, f)\n",
    "X, Y = numpy.meshgrid(x, y)\n",
    "error = numpy.linalg.norm((x[1] - x[0]) * (u_true(X, Y) - U), ord=1)\n",
    "print(error)\n",
    "assert error < 1e-3\n",
    "print(\"Success!\")"
   ]
  },
  {
   "cell_type": "markdown",
   "metadata": {
    "deletable": false,
    "editable": false,
    "nbgrader": {
     "cell_type": "markdown",
     "checksum": "c9d5af935360efd680e5a8d0ea3f721c",
     "grade": false,
     "grade_id": "cell-6915100562515666",
     "locked": true,
     "schema_version": 3,
     "solution": false
    }
   },
   "source": [
    "**(c)** [5] Show that the method is second-order accurate by preforming a convergence study (i.e. plot the error vs. $\\Delta x$ and compare this to the slopes for first and second order accurate methods)."
   ]
  },
  {
   "cell_type": "code",
   "execution_count": 1,
   "metadata": {
    "deletable": false,
    "jupyter": {
     "outputs_hidden": true
    },
    "nbgrader": {
     "cell_type": "code",
     "checksum": "8d846528af9b5e85d49156306c8c4b73",
     "grade": true,
     "grade_id": "cell-1081754757723675",
     "locked": false,
     "points": 5,
     "schema_version": 3,
     "solution": true
    }
   },
   "outputs": [
    {
     "ename": "NameError",
     "evalue": "name 'numpy' is not defined",
     "output_type": "error",
     "traceback": [
      "\u001b[0;31m---------------------------------------------------------------------------\u001b[0m",
      "\u001b[0;31mNameError\u001b[0m                                 Traceback (most recent call last)",
      "\u001b[0;32m/var/folders/wb/nzb45br53_gg6q6xbck1pyl80000gn/T/ipykernel_12639/2585809082.py\u001b[0m in \u001b[0;36m<module>\u001b[0;34m\u001b[0m\n\u001b[1;32m      2\u001b[0m \u001b[0mu_true\u001b[0m \u001b[0;34m=\u001b[0m \u001b[0;32mlambda\u001b[0m \u001b[0mx\u001b[0m\u001b[0;34m,\u001b[0m \u001b[0my\u001b[0m\u001b[0;34m:\u001b[0m \u001b[0;34m(\u001b[0m\u001b[0my\u001b[0m \u001b[0;34m-\u001b[0m \u001b[0my\u001b[0m\u001b[0;34m**\u001b[0m\u001b[0;36m5\u001b[0m\u001b[0;34m)\u001b[0m \u001b[0;34m*\u001b[0m \u001b[0mnumpy\u001b[0m\u001b[0;34m.\u001b[0m\u001b[0msin\u001b[0m\u001b[0;34m(\u001b[0m\u001b[0;36m3.0\u001b[0m \u001b[0;34m*\u001b[0m \u001b[0mnumpy\u001b[0m\u001b[0;34m.\u001b[0m\u001b[0mpi\u001b[0m \u001b[0;34m*\u001b[0m \u001b[0mx\u001b[0m\u001b[0;34m)\u001b[0m\u001b[0;34m\u001b[0m\u001b[0;34m\u001b[0m\u001b[0m\n\u001b[1;32m      3\u001b[0m \u001b[0;34m\u001b[0m\u001b[0m\n\u001b[0;32m----> 4\u001b[0;31m \u001b[0mmrange\u001b[0m \u001b[0;34m=\u001b[0m \u001b[0mnumpy\u001b[0m\u001b[0;34m.\u001b[0m\u001b[0marange\u001b[0m\u001b[0;34m(\u001b[0m\u001b[0;36m10\u001b[0m\u001b[0;34m,\u001b[0m \u001b[0;36m100\u001b[0m\u001b[0;34m,\u001b[0m \u001b[0;36m10\u001b[0m\u001b[0;34m)\u001b[0m\u001b[0;34m\u001b[0m\u001b[0;34m\u001b[0m\u001b[0m\n\u001b[0m\u001b[1;32m      5\u001b[0m \u001b[0;34m\u001b[0m\u001b[0m\n\u001b[1;32m      6\u001b[0m \u001b[0mdelta_x\u001b[0m \u001b[0;34m=\u001b[0m \u001b[0mnumpy\u001b[0m\u001b[0;34m.\u001b[0m\u001b[0mempty\u001b[0m\u001b[0;34m(\u001b[0m\u001b[0mmrange\u001b[0m\u001b[0;34m.\u001b[0m\u001b[0mshape\u001b[0m\u001b[0;34m)\u001b[0m\u001b[0;34m\u001b[0m\u001b[0;34m\u001b[0m\u001b[0m\n",
      "\u001b[0;31mNameError\u001b[0m: name 'numpy' is not defined"
     ]
    }
   ],
   "source": [
    "f = lambda x, y: -(20.0 * y**3 + 9.0 * numpy.pi**2 * (y - y**5)) * numpy.sin(3.0 * numpy.pi * x)\n",
    "u_true = lambda x, y: (y - y**5) * numpy.sin(3.0 * numpy.pi * x)\n",
    "\n",
    "mrange = numpy.arange(10, 100, 10)\n",
    "\n",
    "delta_x = numpy.empty(mrange.shape)\n",
    "error = numpy.empty((mrange.shape[0], numpy.size(mrange)))\n",
    "\n",
    "\n",
    "for (i, m) in enumerate(mrange):\n",
    "    \n",
    "    x = numpy.linspace(0, 1, m + 2)\n",
    "    delta_x[i] = (1 - 0) / (m + 1)\n",
    "    \n",
    "    #Solve matrix\n",
    "    x, y, U = solve_9point(m, f)\n",
    "    X, Y = numpy.meshgrid(x, y)\n",
    "    error[i] = numpy.linalg.norm((x[1] - x[0]) * (u_true(X, Y) - U), ord=1)\n",
    "       \n",
    "fig = plt.figure()\n",
    "axes = fig.add_subplot(1, 1, 1)\n",
    "\n",
    "order_C = lambda delta_x, error, order: numpy.exp(numpy.log(error) - order * numpy.log(delta_x))\n",
    "\n",
    "axes.loglog(delta_x, error, 'o')\n",
    "axes.loglog(delta_x, order_C(delta_x[0], error[0], 1.0) * delta_x**1.0, '--', label=\"1st Order\")\n",
    "axes.loglog(delta_x, order_C(delta_x[0], error[0], 2.0) * delta_x**2.0, '--', label=\"2nd Order\")\n",
    "axes.legend(loc='best')\n",
    "axes.set_title(\"Convergence\")\n",
    "axes.set_xlabel(\"$\\Delta x$\")\n",
    "axes.set_ylabel(\"$|f'(x) - \\hat{f}'(x)|$\")\n",
    "plt.show()"
   ]
  },
  {
   "cell_type": "markdown",
   "metadata": {
    "deletable": false,
    "editable": false,
    "nbgrader": {
     "cell_type": "markdown",
     "checksum": "63afd0e15c455863858eec8ae1d5f5e1",
     "grade": false,
     "grade_id": "cell-2285741892965187",
     "locked": true,
     "schema_version": 3,
     "solution": false
    }
   },
   "source": [
    "**(d)** [15] Show that the 9-point Laplacian can be written as a 5-point Laplacian **plus** a finite difference approximation of $\\frac{1}{6}\\Delta x^2 u_{xxyy} + \\mathcal O(\\Delta x^4)$.  Be explicit about the derivation of the truncation error derivation."
   ]
  },
  {
   "cell_type": "markdown",
   "metadata": {
    "deletable": false,
    "nbgrader": {
     "cell_type": "markdown",
     "checksum": "41eda328cd38f5fa941222fbdd1d2344",
     "grade": true,
     "grade_id": "cell-2044210535698725",
     "locked": false,
     "points": 15,
     "schema_version": 3,
     "solution": true
    }
   },
   "source": [
    "**Answer to Question 1 (d)**\n",
    "\n",
    "We can know that 9-point stencil and 5-point local truncation error can be written as below:\n",
    "$$\n",
    "\\begin{aligned}\n",
    "\\nabla^2 u_{ij} &= \\frac{1}{6 \\Delta x^2} \\left(4 u_{i-1,j} + 4 u_{i+1,j} + 4 u_{i,j-1} + 4 u_{i,j+1} + u_{i-1,j-1} + u_{i+1,j-1} + u_{i+1,j+1} + u_{i-1,j+1} -20 u_{i,j}  \\right)\\\\\n",
    "\\tau_{ij} &=  \\frac{1}{12} \\Delta x^2 (u_{xxxx} + u_{yyyy}) + \\mathcal{O}(\\Delta x^4)\\\\\n",
    "\\end{aligned}\n",
    "$$\n",
    "\n",
    "After applying Talyors series on $\\nabla^2 u(x_i,y_j)$ we then can get something below:\n",
    "\n",
    "$$\n",
    "\\nabla^2 u(x_i,y_j) = \\nabla^2 u + \\frac{1}{12}\\Delta x^2 (u_{xxxx} + 2u_{xxyy} + u_{yyyy}) + \\mathcal{O}(\\Delta x^4)\n",
    "$$\n",
    "\n",
    "We then can simply do the subtraction by taking 5 point lte away from 9 point stencil by the calculation below:\n",
    "\n",
    "$$\n",
    "\\left(\\frac{1}{12}\\Delta x^2 (u_{xxxx} + 2u_{xxyy} + u_{yyyy}) + \\mathcal{O}(\\Delta x^4)\\right) - \\left(\\frac{1}{12} \\Delta x^2 (u_{xxxx} + u_{yyyy}) + \\mathcal{O}(\\Delta x^4)\\right)\n",
    "$$\n",
    "\n",
    "We then can know:\n",
    "\n",
    "$$\n",
    "\\frac{1}{6}\\Delta ^2 u_{xxyy} + \\mathcal{O}(\\Delta x^4)\n",
    "$$"
   ]
  },
  {
   "cell_type": "markdown",
   "metadata": {
    "deletable": false,
    "editable": false,
    "nbgrader": {
     "cell_type": "markdown",
     "checksum": "599cee44c33482d006c64c83b6d75d96",
     "grade": false,
     "grade_id": "cell-9139904614900438",
     "locked": true,
     "schema_version": 3,
     "solution": false
    }
   },
   "source": [
    "**(e)** [10] Modify your function to use the trick introduced in class that will cause the 9-point Laplacian stencil to become 4th order accurate.  Show that this is true via a convergence study."
   ]
  },
  {
   "cell_type": "code",
   "execution_count": 5,
   "metadata": {
    "deletable": false,
    "jupyter": {
     "outputs_hidden": true
    },
    "nbgrader": {
     "cell_type": "code",
     "checksum": "32a8c0fc3459e71a7c4a03cb2cb6d9f8",
     "grade": true,
     "grade_id": "cell-8435370903460673",
     "locked": false,
     "points": 10,
     "schema_version": 3,
     "solution": true
    }
   },
   "outputs": [],
   "source": [
    "def solve_9point_modified(m, f):\n",
    "    \n",
    "    #modified laplacian\n",
    "    mod_l = lambda x, y: (180*(numpy.pi**2)*(y**3)*numpy.sin(3.0 * numpy.pi * x))-(120*y*numpy.sin(3.0 * numpy.pi * x))+(-9*(numpy.pi**2)*-(20.0 * y**3 + 9.0 * numpy.pi**2 * (y - y**5))*numpy.sin(3*numpy.pi*x))\n",
    "\n",
    "    x = numpy.linspace(0, 1, m + 2)\n",
    "    y = numpy.linspace(0, 1, m + 2)\n",
    "    delta_x = x[1]-x[0]\n",
    "\n",
    "    #Construct A\n",
    "    e = numpy.ones(m)\n",
    "    S = sparse.spdiags([-1*e, -10*e, -1*e], [-1, 0, 1], m, m)\n",
    "    I = sparse.spdiags([-1/2*e, e, -1/2*e], [-1, 0, 1], m, m)\n",
    "    A = sparse.kron(I,S)+sparse.kron(S,I)\n",
    "    A /= 6*(delta_x**2)\n",
    "    \n",
    "    #RHS\n",
    "    X, Y = numpy.meshgrid(x[1:-1], y[1:-1])\n",
    "    f = f(X,Y)+((delta_x**2)/12)*mod_l(X,Y)\n",
    "\n",
    "    #Solve\n",
    "    U = numpy.zeros((m+2, m+2))\n",
    "    U[1:-1, 1:-1] = linalg.spsolve(A, f.reshape(m**2, order='F')).reshape((m, m), order='F')\n",
    "\n",
    "    return x, y, U"
   ]
  },
  {
   "cell_type": "code",
   "execution_count": 6,
   "metadata": {},
   "outputs": [
    {
     "data": {
      "image/png": "[encoded data removed]",
      "text/plain": [
       "<Figure size 432x288 with 1 Axes>"
      ]
     },
     "metadata": {
      "needs_background": "light"
     },
     "output_type": "display_data"
    }
   ],
   "source": [
    "f = lambda x, y: -(20.0 * y**3 + 9.0 * numpy.pi**2 * (y - y**5)) * numpy.sin(3.0 * numpy.pi * x)\n",
    "u_true = lambda x, y: (y - y**5) * numpy.sin(3.0 * numpy.pi * x)\n",
    "\n",
    "mrange = numpy.arange(10, 100, 10)\n",
    "\n",
    "delta_x = numpy.empty(mrange.shape)\n",
    "error = numpy.empty((mrange.shape[0], numpy.size(mrange)))\n",
    "\n",
    "\n",
    "for (i, m) in enumerate(mrange):\n",
    "    \n",
    "    x = numpy.linspace(0, 1, m + 2)\n",
    "    delta_x[i] = (1 - 0) / (m + 1)\n",
    "    \n",
    "    #Solve matrix\n",
    "    x, y, U = solve_9point_modified(m, f)\n",
    "    X, Y = numpy.meshgrid(x, y)\n",
    "    error[i] = numpy.linalg.norm((x[1] - x[0]) * (u_true(X, Y) - U), ord=1)\n",
    "       \n",
    "fig = plt.figure()\n",
    "axes = fig.add_subplot(1, 1, 1)\n",
    "\n",
    "order_C = lambda delta_x, error, order: numpy.exp(numpy.log(error) - order * numpy.log(delta_x))\n",
    "\n",
    "\n",
    "\n",
    "axes.loglog(delta_x, error[:,0], 'o', label = \"Modified Laplacian\")\n",
    "axes.loglog(delta_x, order_C(delta_x[0], error[0], 1.0) * delta_x**1.0, '--', label=\"1st Order\")\n",
    "axes.loglog(delta_x, order_C(delta_x[0], error[0], 2.0) * delta_x**2.0, '--', label=\"2nd Order\")\n",
    "axes.loglog(delta_x, order_C(delta_x[0], error[0], 4.0) * delta_x**4.0, '--', label=\"4th Order\")\n",
    "axes.legend(loc='best')\n",
    "axes.set_title(\"Convergence\")\n",
    "axes.set_xlabel(\"$\\Delta x$\")\n",
    "axes.set_ylabel(\"$|f'(x) - \\hat{f}'(x)|$\")\n",
    "axes.grid()\n",
    "plt.show()"
   ]
  },
  {
   "cell_type": "markdown",
   "metadata": {
    "deletable": false,
    "editable": false,
    "nbgrader": {
     "cell_type": "markdown",
     "checksum": "51e86e019d6f093a0a3034827bc638fb",
     "grade": false,
     "grade_id": "cell-1082225285115501",
     "locked": true,
     "schema_version": 3,
     "solution": false
    }
   },
   "source": [
    "## Question 2 - Directional Sweeps\n",
    "\n",
    "Let us consider some modifications to the Gauss-Seidel method we discussed and when one version might be better than the other."
   ]
  },
  {
   "cell_type": "markdown",
   "metadata": {
    "deletable": false,
    "editable": false,
    "nbgrader": {
     "cell_type": "markdown",
     "checksum": "2e136df847753e21257e2651f2dc0c98",
     "grade": false,
     "grade_id": "cell-219832334367966",
     "locked": true,
     "schema_version": 3,
     "solution": false
    }
   },
   "source": [
    "**(a)** [5] The Gauss-Seidel method for the discretization of $u''(x) = f(x)$\n",
    "takes the form \n",
    "$$\n",
    "    U_i^{(k+1)} = \\frac{1}{2} (U_{i+1}^{(k)} + U_{i-1}^{(k+1)}) - f(x_i) \\frac{\\Delta x^2}{2}\n",
    "$$\n",
    "if we assume we are marching forwards across the grid,\n",
    "for $i=1,~2,~\\ldots,~m$.  We can also define a *backwards Gauss-Seidel\n",
    "method* by setting\n",
    "$$\n",
    "    U_i^{(k+1)} = \\frac{1}{2} (U_{i+1}^{(k+1)} + U_{i-1}^{(k)}) - f(x_i) \\frac{\\Delta x^2}{2}\n",
    "$$\n",
    "Show that this is a matrix splitting method of the type described in the lecture notes and what the splitting is."
   ]
  },
  {
   "cell_type": "markdown",
   "metadata": {
    "deletable": false,
    "nbgrader": {
     "cell_type": "markdown",
     "checksum": "1118aec71ad1b719ca5932ea4b288f24",
     "grade": true,
     "grade_id": "cell-1490185228883387",
     "locked": false,
     "points": 5,
     "schema_version": 3,
     "solution": true
    }
   },
   "source": [
    "**Answer to Question 2 (a)**\n",
    "\n",
    "The definition of a matrix splitting method is rewriting $A$ as $M - N$, and we use $M$ as the factor matrix of $U^{k+1}$ and $N$ as the factor matrix of $U^{k}$. Also, the Gauss-Seidel method means we rewrite the square system of $n$ linear equations with unknown $\\textbf{x}$ by taking $x^{k+1}$ and $x^{k}$ into consideration at the same time, for example, $A \\mathbf{x}=\\mathbf{b}$ can be rewrtitten as: $L_{*} \\mathbf{x}^{(k+1)}=\\mathbf{b}-U \\mathbf{x}^{(k)}$:\n",
    "Since we rewrite the Gauss-Seidel method for the discretization of $u''(x) = f(x)$ as:\n",
    " - Forward:\n",
    " $U_i^{(k+1)} = \\frac{1}{2} (U_{i+1}^{(k)} + U_{i-1}^{(k+1)}) - f(x_i) \\frac{\\Delta x^2}{2}\n",
    " $\n",
    " - Backward:\n",
    " $U_i^{(k+1)} = \\frac{1}{2} (U_{i+1}^{(k+1)} + U_{i-1}^{(k)}) - f(x_i) \\frac{\\Delta x^2}{2}\n",
    " $\n",
    "We then know the the aim of matrix splitting methods is dividing A into 2 parts for $U^{k+1}$ and $U^{k}$ respectively and we also know Gauss-Seidel actually has already created a square system of $U^{k+1}$ and $U^{k}$.\n",
    "\n",
    "We then can say Gauss-Seidel actually is a matrix splitting method\n",
    "\n",
    "Since $L_{*} \\mathbf{x}^{(k+1)}=\\mathbf{b}-U \\mathbf{x}^{(k)}$ from Gauss-Seidel Method and $M U^{(k+1)} = N U^{(k)} + b$, we can say $L_{*} = M$, $N = -U$"
   ]
  },
  {
   "cell_type": "markdown",
   "metadata": {
    "deletable": false,
    "editable": false,
    "nbgrader": {
     "cell_type": "markdown",
     "checksum": "3a0952dd9b37e93bfef01b73a84f8895",
     "grade": false,
     "grade_id": "cell-5810913423300870",
     "locked": true,
     "schema_version": 3,
     "solution": false
    }
   },
   "source": [
    "**(b)** [5] Implement the backwards Gauss-Seidel method and show that the convergence is at the same rate as the forward version (do this computationally, you do not need to do this analytically).  Use the same expected iteration count as with the forwards method."
   ]
  },
  {
   "cell_type": "code",
   "execution_count": 7,
   "metadata": {
    "deletable": false,
    "jupyter": {
     "outputs_hidden": true
    },
    "nbgrader": {
     "cell_type": "code",
     "checksum": "1c5c5943e41950c2ee57859c82d02b5c",
     "grade": false,
     "grade_id": "cell-6278257421073252",
     "locked": false,
     "schema_version": 3,
     "solution": true
    }
   },
   "outputs": [],
   "source": [
    "def solve_BGS(a, b, alpha, beta, m, f):\n",
    "    \n",
    "    # Descretization\n",
    "    x_bc = numpy.linspace(a, b, m + 2)\n",
    "    x = x_bc[1:-1]\n",
    "    delta_x = (b - a) / (m + 1)\n",
    "\n",
    "    # Expected iterations needed\n",
    "    iterations_GS = int(2.0 * numpy.log(delta_x) / numpy.log(1.0 - numpy.pi**2 * delta_x**2))\n",
    "    \n",
    "    # Initial guess for iterations\n",
    "    U = numpy.zeros(m + 2)\n",
    "    U[0] = alpha\n",
    "    U[-1] = beta\n",
    "    \n",
    "    for k in range(iterations_GS):\n",
    "\n",
    "        for i in range(m, 0, -1):          \n",
    "            U[i] = 0.5 * (U[i+1] + U[i-1]) - f(x_bc[i]) * delta_x**2 / 2.0\n",
    "              \n",
    "    return x_bc, U"
   ]
  },
  {
   "cell_type": "code",
   "execution_count": 8,
   "metadata": {
    "deletable": false,
    "editable": false,
    "nbgrader": {
     "cell_type": "code",
     "checksum": "b2ac4fd79cea36ada063ae45b585e25a",
     "grade": true,
     "grade_id": "cell-4773898510620230",
     "locked": true,
     "points": 5,
     "schema_version": 3,
     "solution": false
    }
   },
   "outputs": [
    {
     "name": "stdout",
     "output_type": "stream",
     "text": [
      "4.595681653803634e-05\n",
      "Success!\n"
     ]
    }
   ],
   "source": [
    "# Problem setup\n",
    "a = 0.0\n",
    "b = 1.0\n",
    "alpha = 0.0\n",
    "beta = 3.0\n",
    "f = lambda x: numpy.exp(x)\n",
    "u_true = lambda x: (4.0 - numpy.exp(1.0)) * x - 1.0 + numpy.exp(x)\n",
    "\n",
    "x, U = solve_BGS(a, b, alpha, beta, 150, f)\n",
    "error = numpy.linalg.norm((x[1] - x[0]) * (u_true(x) - U), ord=1)\n",
    "print(error)\n",
    "assert(error < 1e-4)\n",
    "print(\"Success!\")"
   ]
  },
  {
   "cell_type": "markdown",
   "metadata": {
    "deletable": false,
    "editable": false,
    "nbgrader": {
     "cell_type": "markdown",
     "checksum": "106ded06e4dce136536ba0d29fd26829",
     "grade": false,
     "grade_id": "cell-4456652381245728",
     "locked": true,
     "schema_version": 3,
     "solution": false
    }
   },
   "source": [
    "**(c)** [10] Modify the code so that it solves the steady-state problem\n",
    "$$\n",
    "    \\epsilon u''(x) - u'(x) = f(x)\n",
    "$$\n",
    "we had before with the same boundaries and $f(x) = -1$.  This time however use the one-sided approximation to the first derivative\n",
    "$$\n",
    "    \\frac{U_i - U_{i-1}}{\\Delta x}.\n",
    "$$\n",
    "Test both forward and backward Gauss-Seidel for the resulting linear system.  Use the value $\\epsilon = 0.01$, $m = 100$, and a maximum number of iterations of $250$.  Plot the convergence of both approaches."
   ]
  },
  {
   "cell_type": "code",
   "execution_count": 9,
   "metadata": {
    "deletable": false,
    "nbgrader": {
     "cell_type": "code",
     "checksum": "699053cf823006f4467f633f324701e9",
     "grade": true,
     "grade_id": "cell-2125849995915304",
     "locked": false,
     "points": 5,
     "schema_version": 3,
     "solution": true
    }
   },
   "outputs": [
    {
     "data": {
      "image/png": "[encoded data removed]",
      "text/plain": [
       "<Figure size 432x288 with 1 Axes>"
      ]
     },
     "metadata": {
      "needs_background": "light"
     },
     "output_type": "display_data"
    },
    {
     "data": {
      "image/png": "[encoded data removed]",
      "text/plain": [
       "<Figure size 432x288 with 1 Axes>"
      ]
     },
     "metadata": {
      "needs_background": "light"
     },
     "output_type": "display_data"
    },
    {
     "data": {
      "image/png": "[encoded data removed]",
      "text/plain": [
       "<Figure size 432x288 with 1 Axes>"
      ]
     },
     "metadata": {
      "needs_background": "light"
     },
     "output_type": "display_data"
    }
   ],
   "source": [
    "a = 0.0\n",
    "b = 1.0\n",
    "alpha = 1.0\n",
    "beta = 3.0\n",
    "epsilon = 0.01\n",
    "u_true = lambda x: alpha + x + (beta - alpha - 1.0) * (numpy.exp(x / epsilon) - 1.0) / (numpy.exp(1.0 / epsilon) - 1.0)\n",
    "\n",
    "def U_true(a, b, u_a, u_b, f, m):\n",
    "    \"\"\"Compute the solution to the given linear system\"\"\"\n",
    "    x_bc = numpy.linspace(a, b, m + 2)\n",
    "    x = x_bc[1:-1]\n",
    "    delta_x = (b - a) / (m + 1)\n",
    "    \n",
    "    # Construct matrix A\n",
    "    A = numpy.zeros((m, m))\n",
    "    diagonal = numpy.ones(m) / delta_x**2\n",
    "    A += numpy.diag(diagonal * -2.0, 0)\n",
    "    A += numpy.diag(diagonal[:-1], 1)\n",
    "    A += numpy.diag(diagonal[:-1], -1)\n",
    "\n",
    "    # Construct RHS\n",
    "    b = f(x)\n",
    "    b[0] -= u_a / delta_x**2\n",
    "    b[-1] -= u_b / delta_x**2\n",
    "\n",
    "    # Solve system\n",
    "    U = numpy.empty(m + 2)\n",
    "    U[0] = u_a\n",
    "    U[-1] = u_b\n",
    "    U[1:-1] = numpy.linalg.solve(A, b)\n",
    "    \n",
    "    return U\n",
    "\n",
    "# Descretization\n",
    "m = 100\n",
    "x_bc = numpy.linspace(a, b, m + 2)\n",
    "x = x_bc[1:-1]\n",
    "delta_x = (b - a) / (m + 1)\n",
    "\n",
    "# Expected iterations needed\n",
    "iterations_GS = 250\n",
    "\n",
    "# Solve system\n",
    "U_system = U_true(a, b, alpha, beta, f, m)\n",
    "\n",
    "# Initial guess for iterations\n",
    "U_f = numpy.zeros(m + 2)\n",
    "U_f[0] = alpha\n",
    "U_f[-1] = beta\n",
    "\n",
    "U_b = numpy.zeros(m + 2)\n",
    "U_b[0] = alpha\n",
    "U_b[-1] = beta\n",
    "\n",
    "convergence_FGS = numpy.zeros((iterations_GS, 2))\n",
    "step_size_FGS = numpy.zeros(iterations_GS)\n",
    "\n",
    "convergence_BGS = numpy.zeros((iterations_GS, 2))\n",
    "step_size_BGS = numpy.zeros(iterations_GS)\n",
    "\n",
    "error = numpy.zeros((iterations_GS, 2))\n",
    "\n",
    "\n",
    "#Forward\n",
    "for k in range(iterations_GS):\n",
    "    U_old = U_f.copy()\n",
    "    for i in range(1, m + 1):\n",
    "        U_f[i] = (epsilon * U_f[i+1] + (epsilon + delta_x) * U_f[i-1] - (-1) * delta_x**2 ) / (2 * epsilon + delta_x)\n",
    "\n",
    "    convergence_FGS[k, 0] = numpy.linalg.norm(U_system - U_f, ord=2)\n",
    "    convergence_FGS[k, 1] = numpy.linalg.norm(u_true(x_bc) - U_f, ord=2)\n",
    "    step_size_FGS[k] = numpy.linalg.norm(U_old - U_f, ord=2)\n",
    "    error[k,0] = numpy.linalg.norm((x_bc[1] - x_bc[0]) * (u_true(x_bc) - U_f), ord=1)\n",
    "\n",
    "#Backward\n",
    "for k in range(iterations_GS):\n",
    "    U_old = U_b.copy()\n",
    "    for i in range(m, 0, -1):\n",
    "        U_b[i] = (epsilon * U_b[i+1] + (epsilon + delta_x) * U_b[i-1] - (-1) * delta_x**2 ) / (2 * epsilon + delta_x)\n",
    "\n",
    "    convergence_BGS[k, 0] = numpy.linalg.norm(U_system - U_b, ord=2)\n",
    "    convergence_BGS[k, 1] = numpy.linalg.norm(u_true(x_bc) - U_b, ord=2)\n",
    "    step_size_BGS[k] = numpy.linalg.norm(U_old - U_b, ord=2)\n",
    "    error[k,1] = numpy.linalg.norm((x_bc[1] - x_bc[0]) * (u_true(x_bc) - U_b), ord=1)\n",
    "    \n",
    "# Plot Forward result \n",
    "fig = plt.figure()\n",
    "axes = fig.add_subplot(1, 1, 1)\n",
    "axes.plot(x_bc, U_f, 'o', label=\"Computed\")\n",
    "axes.plot(x_bc, u_true(x_bc), 'k', label=\"True\")\n",
    "axes.set_title(\"Forward - Solution to $\\epsilon u^{\\prime\\prime}(x)- u^{\\prime}(x) = f(x)$\")\n",
    "axes.set_xlabel(\"x\")\n",
    "axes.set_ylabel(\"u(x)\")\n",
    "\n",
    "# fig = plt.figure()\n",
    "# fig.set_figwidth(fig.get_figwidth() * 3)\n",
    "# axes = fig.add_subplot(1, 3, 1)\n",
    "# axes.semilogy(list(range(iterations_GS)), step_size_FGS, 'o')\n",
    "# axes.semilogy(list(range(iterations_GS)), numpy.ones(iterations_GS) * delta_x**2, 'r--')\n",
    "# axes.set_title(\"Forward - Subsequent Step Size - GS\")\n",
    "# axes.set_xlabel(\"Iteration\")\n",
    "# axes.set_ylabel(\"$||U^{(k)} - U^{(k-1)}||_2$\")\n",
    "# axes = fig.add_subplot(1, 3, 2)\n",
    "# axes.semilogy(list(range(iterations_GS)), convergence_FGS[:, 0], 'o')\n",
    "# axes.semilogy(list(range(iterations_GS)), numpy.ones(iterations_GS) * epsilon, 'r--')\n",
    "# axes.set_title(\"Forward - Convergence to Solution of System - GS\")\n",
    "# axes.set_xlabel(\"Iteration\")\n",
    "# axes.set_ylabel(\"$||U^* - U^{(k-1)}||_2$\")\n",
    "# axes = fig.add_subplot(1, 3, 3)\n",
    "# axes.semilogy(list(range(iterations_GS)), convergence_FGS[:, 1], 'o')\n",
    "# axes.semilogy(list(range(iterations_GS)), numpy.ones(iterations_GS) * delta_x**2, 'r--')\n",
    "# axes.set_title(\"Forward - Convergence to True Solution - GS\")\n",
    "# axes.set_xlabel(\"Iteration\")\n",
    "# axes.set_ylabel(\"$||u(x) - U^{(k-1)}||_2$\")\n",
    "\n",
    "#Plot backward result\n",
    "fig = plt.figure()\n",
    "axes = fig.add_subplot(1, 1, 1)\n",
    "axes.plot(x_bc, U_b, 'o', label=\"Computed\")\n",
    "axes.plot(x_bc, u_true(x_bc), 'k', label=\"True\")\n",
    "axes.set_title(\"Backward - Solution to $\\epsilon u^{\\prime\\prime}(x)- u^{\\prime}(x) = f(x)$\")\n",
    "axes.set_xlabel(\"x\")\n",
    "axes.set_ylabel(\"u(x)\")\n",
    "\n",
    "# fig = plt.figure()\n",
    "# fig.set_figwidth(fig.get_figwidth() * 3)\n",
    "# axes = fig.add_subplot(1, 3, 1)\n",
    "# axes.semilogy(list(range(iterations_GS)), step_size_BGS, 'o')\n",
    "# axes.semilogy(list(range(iterations_GS)), numpy.ones(iterations_GS) * delta_x**2, 'r--')\n",
    "# axes.set_title(\"Backward - Subsequent Step Size - GS\")\n",
    "# axes.set_xlabel(\"Iteration\")\n",
    "# axes.set_ylabel(\"$||U^{(k)} - U^{(k-1)}||_2$\")\n",
    "# axes = fig.add_subplot(1, 3, 2)\n",
    "# axes.semilogy(list(range(iterations_GS)), convergence_BGS[:, 0], 'o')\n",
    "# axes.semilogy(list(range(iterations_GS)), numpy.ones(iterations_GS) * epsilon, 'r--')\n",
    "# axes.set_title(\"Backward - Convergence to Solution of System - GS\")\n",
    "# axes.set_xlabel(\"Iteration\")\n",
    "# axes.set_ylabel(\"$||U^* - U^{(k-1)}||_2$\")\n",
    "# axes = fig.add_subplot(1, 3, 3)\n",
    "# axes.semilogy(list(range(iterations_GS)), convergence_BGS[:, 1], 'o')\n",
    "# axes.semilogy(list(range(iterations_GS)), numpy.ones(iterations_GS) * delta_x**2, 'r--')\n",
    "# axes.set_title(\"Backward - Convergence to True Solution - GS\")\n",
    "# axes.set_xlabel(\"Iteration\")\n",
    "# axes.set_ylabel(\"$||u(x) - U^{(k-1)}||_2$\")\n",
    "\n",
    "\n",
    "#plot error\n",
    "fig = plt.figure()\n",
    "axes = fig.add_subplot(1, 1, 1)\n",
    "iteration_range = numpy.linspace(1, 250, 250)\n",
    "axes.semilogy(iteration_range, error[:,0], 'r', label=\"Forward\")\n",
    "axes.semilogy(iteration_range, error[:,1], 'b', label=\"Backward\")\n",
    "axes.set_title(\"Error\")\n",
    "axes.set_xlabel(\"Iteration\")\n",
    "axes.set_ylabel(\"error\")\n",
    "axes.legend(loc = 'best')\n",
    "\n",
    "\n",
    "plt.show()\n",
    "\n",
    "\n"
   ]
  },
  {
   "cell_type": "markdown",
   "metadata": {
    "deletable": false,
    "editable": false,
    "nbgrader": {
     "cell_type": "markdown",
     "checksum": "2fe4e5d4cbd21146d3d1e6dcfd7fedfd",
     "grade": false,
     "grade_id": "cell-9455707686421084",
     "locked": true,
     "schema_version": 3,
     "solution": false
    }
   },
   "source": [
    "**(d)** [5] Explain intuitively why sweeping in one direction works so much better than\n",
    "in the other.\n",
    "\n",
    "**Hint**: Note that this equation is the steady equation for an advection-diffusion PDE \n",
    "$$\n",
    "    u_t(x,t) + u_x(x,t) = \\epsilon u_{xx}(x,t) - f(x).\n",
    "$$  \n",
    "You might consider how the methods behave in the case $\\epsilon = 0$."
   ]
  },
  {
   "cell_type": "markdown",
   "metadata": {
    "deletable": false,
    "nbgrader": {
     "cell_type": "markdown",
     "checksum": "e4d4f8ad620ef6e82ba7a04142c5f836",
     "grade": true,
     "grade_id": "cell-9906953091700584",
     "locked": false,
     "points": 5,
     "schema_version": 3,
     "solution": true
    }
   },
   "source": [
    "**Answer to Question 2 (d)**\n",
    "\n",
    "The reason why sweeping backward works so much better than forward is because the $u^{\\prime}$ term. \n",
    "\n",
    "The first derivative only has 2 terms below and since we know $u^{\\prime \\prime}$ is actually a symmetric term (consists of U_{i-1}, U_{i}, U_{i+1}), which means it will perfectly fit no matter which direction u would like to consider, however, since there are only 2 terms in $u^{\\prime}$, we can definitely say that one direction is better than the other because $u^{\\prime}$ will automatically control ur outcome by its terms\n",
    "\n",
    "$$\n",
    "    \\frac{U_i - U_{i-1}}{\\Delta x}.\n",
    "$$"
   ]
  },
  {
   "cell_type": "markdown",
   "metadata": {
    "deletable": false,
    "editable": false,
    "nbgrader": {
     "cell_type": "markdown",
     "checksum": "185a0da2eae3c75abc181434ba96167e",
     "grade": false,
     "grade_id": "cell-3869874745544112",
     "locked": true,
     "schema_version": 3,
     "solution": false
    }
   },
   "source": [
    "# Question 3 - Higher Order Approximations\n",
    "\n",
    "Let us consider a few approaches to achieving higher order convergence.  For all of these questions consider the basic ODE\n",
    "$$\n",
    "    u''(x) = f(x) \\quad \\quad x \\in [0, L] \\quad \\quad u(0) = \\alpha, \\quad u(L) = \\beta\n",
    "$$\n",
    "For all of these you can solve the resulting system using an appropriate `numpy` or `scipy` command."
   ]
  },
  {
   "cell_type": "markdown",
   "metadata": {
    "deletable": false,
    "editable": false,
    "nbgrader": {
     "cell_type": "markdown",
     "checksum": "30fcc40e6c75cccd0049ec57b6b4e264",
     "grade": false,
     "grade_id": "cell-5598370966352972",
     "locked": true,
     "schema_version": 3,
     "solution": false
    }
   },
   "source": [
    "**(a) 4th order finite difference:** [15] Using the following fourth order accurate finite difference approximations to write a function that solves $u''(x) = f(x)$.\n",
    "$$\\begin{aligned}\n",
    "    u''(x_j) &\\approx \\frac{-U_{j-2} + 16 U_{j-1} - 30 U_j + 16 U_{j+1} - U_{j+2}}{12 \\Delta x^2}\\\\\n",
    "    u''(x_1) &\\approx \\frac{10 U_{0} - 15 U_{1} - 4 U_2 + 14 U_{3} - 6 U_{4} + U_5}{12 \\Delta x^2}\\\\\n",
    "\\end{aligned}$$\n",
    "recalling that the forward and backward differences come in pairs with minor changes."
   ]
  },
  {
   "cell_type": "code",
   "execution_count": 10,
   "metadata": {
    "deletable": false,
    "jupyter": {
     "outputs_hidden": true
    },
    "nbgrader": {
     "cell_type": "code",
     "checksum": "ba1f11b8a75b87b4927cd7ff7c837b83",
     "grade": false,
     "grade_id": "cell-8370990914016962",
     "locked": false,
     "schema_version": 3,
     "solution": true
    }
   },
   "outputs": [],
   "source": [
    "def high_order_differencing(m, f, alpha, beta, L):\n",
    "    \"\"\"\n",
    "    Solve u''(x) = f(x) using 4th order differencing methods\n",
    "    \n",
    "    :Input:\n",
    "     - *m* (int) Number of points to use in the approximation (not including boundaries)\n",
    "     - *f* (func) The right hand side function in the ODE\n",
    "     - *alpha* (float) Left hand boundary condition u(0)\n",
    "     - *beta* (float) Right hand boundary condition u(L)\n",
    "     - *L* (float) Length of domain such that x \\in [0, L]\n",
    "     \n",
    "    :Output:\n",
    "     - *x* (ndarray) Points at which the solution is found AND the boundaries\n",
    "     - *U* (ndarray) Solution at the x points and the boundaries.\n",
    "    \"\"\"\n",
    "    \n",
    "    a = 0\n",
    "    b = L\n",
    "    \n",
    "    x_bc = numpy.linspace(a,b,m+2)\n",
    "    delta_x = (b - a) / (m + 1)\n",
    "    \n",
    "    # Construct matrix A\n",
    "    A = numpy.zeros((m+2, m+2))\n",
    "    diagonal = numpy.ones(m+2) / (12*(delta_x**2))\n",
    "    A += numpy.diag(diagonal * -30.0, 0)\n",
    "    A += numpy.diag(diagonal[:-1] * 16, -1)\n",
    "    A += numpy.diag(diagonal[:-1] * 16, 1)\n",
    "    A += numpy.diag(diagonal[:-2] * -1, -2)\n",
    "    A += numpy.diag(diagonal[:-2] * -1, 2)\n",
    "    \n",
    "    # Construct RHS\n",
    "    b = f(x_bc)\n",
    "    \n",
    "    # Boundary Conditions\n",
    "    A[0,0] = 1\n",
    "    A[0,1] = 0\n",
    "    A[0,2] = 0\n",
    "    A[1,0] = 10 / (12*(delta_x**2))\n",
    "    A[1,1] = -15 / (12*(delta_x**2))\n",
    "    A[1,2] = -4 / (12*(delta_x**2))\n",
    "    A[1,3] = 14 / (12*(delta_x**2))\n",
    "    A[1,4] = -6 / (12*(delta_x**2))\n",
    "    A[1,5] = 1 / (12*(delta_x**2))\n",
    "    \n",
    "    \n",
    "    A[-1,-1] = 1\n",
    "    A[-1,-2] = 0\n",
    "    A[-1,-3] = 0\n",
    "    A[-2,-1] = 10 / (12*(delta_x**2))\n",
    "    A[-2,-2] = -15 / (12*(delta_x**2))\n",
    "    A[-2,-3] = -4 / (12*(delta_x**2))\n",
    "    A[-2,-4] = 14 / (12*(delta_x**2))\n",
    "    A[-2,-5] = -6 / (12*(delta_x**2))\n",
    "    A[-2,-6] = 1 / (12*(delta_x**2))\n",
    "    \n",
    "    b[0] = alpha\n",
    "    b[-1] = beta\n",
    "    \n",
    "    #Solve Equation\n",
    "    U = numpy.linalg.solve(A,b)\n",
    "\n",
    "    x = x_bc\n",
    "    return x, U"
   ]
  },
  {
   "cell_type": "code",
   "execution_count": 11,
   "metadata": {
    "deletable": false,
    "editable": false,
    "jupyter": {
     "outputs_hidden": true
    },
    "nbgrader": {
     "cell_type": "code",
     "checksum": "5f9ff83a1377ad60383f6501e5038f48",
     "grade": true,
     "grade_id": "cell-4225159415331065",
     "locked": true,
     "points": 15,
     "schema_version": 3,
     "solution": false
    }
   },
   "outputs": [
    {
     "name": "stdout",
     "output_type": "stream",
     "text": [
      "0.0002768187110782083\n",
      "Success!\n"
     ]
    }
   ],
   "source": [
    "alpha = -5.0\n",
    "beta = 3.0\n",
    "L = 3.0\n",
    "u_true = lambda x, alpha, beta, L: numpy.exp(x) + (beta - alpha + 1.0 - numpy.exp(L)) / L * x - 1.0 + alpha\n",
    "x, U = high_order_differencing(10, lambda x: numpy.exp(x), alpha, beta, L)\n",
    "error = numpy.linalg.norm(U - u_true(x, alpha, beta, L), ord=numpy.infty)\n",
    "print(error)\n",
    "assert(error < 1e-3)\n",
    "print(\"Success!\")"
   ]
  },
  {
   "cell_type": "markdown",
   "metadata": {
    "deletable": false,
    "editable": false,
    "nbgrader": {
     "cell_type": "markdown",
     "checksum": "996b2b7b956cb22dc8c0d99b4ce20c0a",
     "grade": false,
     "grade_id": "cell-6360679878137168",
     "locked": true,
     "schema_version": 3,
     "solution": false
    }
   },
   "source": [
    "**(b) Deferred Corrections:** [15] One way to obtain higher order results is to compute using a second order method but twice.  The first step is to compute the solution to the system\n",
    "$$\n",
    "    A U = F.\n",
    "$$\n",
    "Recall now that we know that the global error is defined as $E = U - \\hat{U}$ and satisfies\n",
    "$$\n",
    "    A E = -\\tau.\n",
    "$$\n",
    "We have an approximation to $\\tau$ as\n",
    "$$\n",
    "    \\tau_j = \\frac{\\Delta x^2}{12} u^{(4)}(x_j) + \\mathcal{O}(\\Delta x^4)\n",
    "$$\n",
    "which depends on the exact solution but we have already computed an approximation to that and can use an approximation to the fourth derivative of $U$ to compute $\\tau$.  We can then solve the new system of equations and update the previous problem with the estimate of the global error we found.  \n",
    "\n",
    "In general deferred correction methods solve the original problem at lower order and then use this solution to compute an estimate of the truncation error $\\tau$, find the approximation of the global error $E$, and use this to update the solution.\n",
    "\n",
    "For this question implement this method for $u''(x) = f(x)$ again.  Note that there may be a significant short cut assuming that the 4th derivative of $u(x)$ is smooth and using the original equation $u''(x) = f(x)$.  Another hint, this shortcut is very similar to the one we found for the 9-point Laplacian.  Do NOT assume that you know $f(x)$ before hand."
   ]
  },
  {
   "cell_type": "code",
   "execution_count": 12,
   "metadata": {
    "deletable": false,
    "jupyter": {
     "outputs_hidden": true
    },
    "nbgrader": {
     "cell_type": "code",
     "checksum": "2b9c1567cd5c51f16807ffc3242a8a6d",
     "grade": false,
     "grade_id": "cell-4948301972928432",
     "locked": false,
     "schema_version": 3,
     "solution": true
    }
   },
   "outputs": [],
   "source": [
    "def deferred_correction(m, f, alpha, beta, L):\n",
    "    \"\"\"\n",
    "    Solve u''(x) = f(x) using a deferred correction method\n",
    "    \n",
    "    :Input:\n",
    "     - *m* (int) Number of points to use in the approximation (not including boundaries)\n",
    "     - *f* (func) The right hand side function in the ODE\n",
    "     - *alpha* (float) Left hand boundary condition u(0)\n",
    "     - *beta* (float) Right hand boundary condition u(L)\n",
    "     - *L* (float) Length of domain such that x \\in [0, L]\n",
    "     \n",
    "    :Output:\n",
    "     - *x* (ndarray) Points at which the solution is found AND the boundaries\n",
    "     - *U* (ndarray) Solution at the x points and the boundaries.\n",
    "    \"\"\"\n",
    "    \n",
    "    #############################SOLVE 2ND ORDER DERIVATIVE#############################\n",
    "    \n",
    "    a = 0\n",
    "    b = L\n",
    "    \n",
    "    \n",
    "    # Descretization\n",
    "    x_bc = numpy.linspace(a, b, m + 2)\n",
    "    x = x_bc[1:-1]\n",
    "    delta_x = (b - a) / (m + 1)\n",
    "\n",
    "    # Construct matrix A\n",
    "    A = numpy.zeros((m + 2, m + 2))\n",
    "    diagonal = numpy.ones(m + 2) / delta_x**2\n",
    "    A += numpy.diag(diagonal * -2.0, 0)\n",
    "    A += numpy.diag(diagonal[:-1], 1)\n",
    "    A += numpy.diag(diagonal[:-1], -1)\n",
    "\n",
    "    # Construct RHS\n",
    "    b = f(x_bc)\n",
    "\n",
    "    # Boundary conditions\n",
    "    A[0, 0] = 1.0\n",
    "    A[0, 1] = 0.0\n",
    "    A[-1, -1] = 1.0 \n",
    "    A[-1, -2] = 0.0\n",
    "\n",
    "    b[0] = alpha\n",
    "    b[-1] = beta\n",
    "\n",
    "    # Solve system\n",
    "    U2 = numpy.linalg.solve(A, b)\n",
    "    \n",
    "    U2[0] = alpha\n",
    "    U2[-1] = beta\n",
    "    \n",
    "    # Construct matrix B\n",
    "    B = numpy.zeros((m+2, m+2))\n",
    "    diagonal = numpy.ones(m+2) / (12*(delta_x**2))\n",
    "    B += numpy.diag(diagonal * -30.0, 0)\n",
    "    B += numpy.diag(diagonal[:-1] * 16, -1)\n",
    "    B += numpy.diag(diagonal[:-1] * 16, 1)\n",
    "    B += numpy.diag(diagonal[:-2] * -1, -2)\n",
    "    B += numpy.diag(diagonal[:-2] * -1, 2)\n",
    "    \n",
    "    # Boundary Conditions\n",
    "    B[0,0] = 1\n",
    "    B[0,1] = 0\n",
    "    B[0,2] = 0\n",
    "    B[1,0] = 10 / (12*(delta_x**2))\n",
    "    B[1,1] = -15 / (12*(delta_x**2))\n",
    "    B[1,2] = -4 / (12*(delta_x**2))\n",
    "    B[1,3] = 14 / (12*(delta_x**2))\n",
    "    B[1,4] = -6 / (12*(delta_x**2))\n",
    "    B[1,5] = 1 / (12*(delta_x**2))\n",
    "    \n",
    "    \n",
    "    B[-1,-1] = 1\n",
    "    B[-1,-2] = 0\n",
    "    B[-1,-3] = 0\n",
    "    B[-2,-1] = 10 / (12*(delta_x**2))\n",
    "    B[-2,-2] = -15 / (12*(delta_x**2))\n",
    "    B[-2,-3] = -4 / (12*(delta_x**2))\n",
    "    B[-2,-4] = 14 / (12*(delta_x**2))\n",
    "    B[-2,-5] = -6 / (12*(delta_x**2))\n",
    "    B[-2,-6] = 1 / (12*(delta_x**2))\n",
    "    b = f(x_bc)\n",
    "    \n",
    "    U4 = numpy.linalg.solve(B, b)\n",
    "\n",
    "    tau = U4 * (delta_x**2)/12\n",
    "\n",
    "    tau[0] = 0\n",
    "    tau[-1] = 0\n",
    "    E = numpy.linalg.solve(A, -1*tau)\n",
    "    \n",
    "    U = U2 - E\n",
    "\n",
    "    \n",
    "    return x_bc, U"
   ]
  },
  {
   "cell_type": "code",
   "execution_count": 13,
   "metadata": {
    "deletable": false,
    "editable": false,
    "jupyter": {
     "outputs_hidden": true
    },
    "nbgrader": {
     "cell_type": "code",
     "checksum": "8ad3fd31fbaeec9d6dccfda6cee09a43",
     "grade": true,
     "grade_id": "cell-2728787465184147",
     "locked": true,
     "points": 15,
     "schema_version": 3,
     "solution": false
    }
   },
   "outputs": [
    {
     "name": "stdout",
     "output_type": "stream",
     "text": [
      "9.781764653915559e-05\n",
      "Success!\n"
     ]
    }
   ],
   "source": [
    "alpha = -5.0\n",
    "beta = 3.0\n",
    "L = 3.0\n",
    "u_true = lambda x, alpha, beta, L: numpy.exp(x) + (beta - alpha + 1.0 - numpy.exp(L)) / L * x - 1.0 + alpha\n",
    "x, U = deferred_correction(10, lambda x: numpy.exp(x), alpha, beta, L)\n",
    "error = numpy.linalg.norm(U - u_true(x, alpha, beta, L), ord=numpy.infty)\n",
    "print(error)\n",
    "assert(error < 1e-3)\n",
    "print(\"Success!\")"
   ]
  },
  {
   "cell_type": "markdown",
   "metadata": {
    "deletable": false,
    "editable": false,
    "nbgrader": {
     "cell_type": "markdown",
     "checksum": "83033e3283dca7df61a3a29f4448d820",
     "grade": false,
     "grade_id": "cell-3811485411740911",
     "locked": true,
     "schema_version": 3,
     "solution": false
    }
   },
   "source": [
    "**(c)** [5] Confirm the order of convergence for the two methods above."
   ]
  },
  {
   "cell_type": "code",
   "execution_count": 14,
   "metadata": {
    "deletable": false,
    "jupyter": {
     "outputs_hidden": true
    },
    "nbgrader": {
     "cell_type": "code",
     "checksum": "11dbf091fed24f3ca5f4c0c5f11ee977",
     "grade": true,
     "grade_id": "cell-9032260154435106",
     "locked": false,
     "points": 5,
     "schema_version": 3,
     "solution": true
    },
    "scrolled": false
   },
   "outputs": [
    {
     "data": {
      "image/png": "[encoded data removed]",
      "text/plain": [
       "<Figure size 864x720 with 2 Axes>"
      ]
     },
     "metadata": {
      "needs_background": "light"
     },
     "output_type": "display_data"
    }
   ],
   "source": [
    "\n",
    "alpha = -5.0\n",
    "beta = 3.0\n",
    "L = 3.0\n",
    "\n",
    "f = lambda x: numpy.exp(x)\n",
    "\n",
    "u_true = lambda x, alpha, beta, L: numpy.exp(x) + (beta - alpha + 1.0 - numpy.exp(L)) / L * x - 1.0 + alpha\n",
    "\n",
    "mrange = numpy.arange(10, 100, 10)\n",
    "delta_x = numpy.empty(mrange.shape)\n",
    "error_high = numpy.empty((mrange.shape[0], numpy.size(mrange)))\n",
    "error_defer = numpy.empty((mrange.shape[0], numpy.size(mrange)))\n",
    "\n",
    "\n",
    "for (i, m) in enumerate(mrange):\n",
    "    \n",
    "    x = numpy.linspace(0, 1, m + 2)\n",
    "    delta_x[i] = (1 - 0) / (m + 1)\n",
    "    \n",
    "    #Solve matrix\n",
    "    x_high, U_high = high_order_differencing(m, f, alpha, beta, L)\n",
    "    x_defer, U_defer = deferred_correction(m, f, alpha, beta, L)\n",
    "    \n",
    "    X_high, Y_high = numpy.meshgrid(x_high, U_high)\n",
    "    X_defer, Y_defer = numpy.meshgrid(x_defer, U_defer)\n",
    "    \n",
    "    error_high[i] = numpy.linalg.norm((x_high[1] - x_high[0]) * (u_true(X_high, alpha, beta, L) - U_high), ord=1)\n",
    "    error_defer[i] = numpy.linalg.norm((x_defer[1] - x_defer[0]) * (u_true(X_defer, alpha, beta, L) - U_defer), ord=1)\n",
    "       \n",
    "\n",
    "fig = plt.figure(figsize=(12,10))\n",
    "\n",
    "axes = fig.add_subplot(1, 2, 1)\n",
    "\n",
    "order_C = lambda delta_x, error, order: numpy.exp(numpy.log(error) - order * numpy.log(delta_x))\n",
    "\n",
    "axes.loglog(delta_x, error_high, 'o')\n",
    "axes.loglog(delta_x, order_C(delta_x[0], error_high[0], 1.0) * delta_x**1.0, '--', label=\"1st Order\")\n",
    "axes.loglog(delta_x, order_C(delta_x[0], error_high[0], 2.0) * delta_x**2.0, '--', label=\"2nd Order\")\n",
    "axes.loglog(delta_x, order_C(delta_x[0], error_high[0], 4.0) * delta_x**4.0, '--', label=\"4th Order\")\n",
    "axes.set_title(\"Convergence of high order differencing\")\n",
    "axes.set_xlabel(\"$\\Delta x$\")\n",
    "axes.set_ylabel(\"$|f'(x) - \\hat{f}'(x)|$\")\n",
    "axes.legend(loc='best')\n",
    "\n",
    "axes = fig.add_subplot(1, 2, 2)\n",
    "\n",
    "axes.loglog(delta_x, error_defer, 'o')\n",
    "axes.loglog(delta_x, order_C(delta_x[0], error_defer[0], 1.0) * delta_x**1.0, '--', label=\"1st Order\")\n",
    "axes.loglog(delta_x, order_C(delta_x[0], error_defer[0], 2.0) * delta_x**2.0, '--', label=\"2nd Order\")\n",
    "axes.loglog(delta_x, order_C(delta_x[0], error_defer[0], 4.0) * delta_x**4.0, '--', label=\"4th Order\")\n",
    "axes.set_title(\"Convergence of deferred\")\n",
    "axes.set_xlabel(\"$\\Delta x$\")\n",
    "axes.set_ylabel(\"$|f'(x) - \\hat{f}'(x)|$\")\n",
    "axes.legend(loc='best')\n",
    "plt.show()"
   ]
  }
 ],
 "metadata": {
  "kernelspec": {
   "display_name": "Python 3 (ipykernel)",
   "language": "python",
   "name": "python3"
  },
  "language_info": {
   "codemirror_mode": {
    "name": "ipython",
    "version": 3
   },
   "file_extension": ".py",
   "mimetype": "text/x-python",
   "name": "python",
   "nbconvert_exporter": "python",
   "pygments_lexer": "ipython3",
   "version": "3.9.7"
  },
  "latex_envs": {
   "bibliofile": "biblio.bib",
   "cite_by": "apalike",
   "current_citInitial": 1,
   "eqLabelWithNumbers": true,
   "eqNumInitial": 0
  }
 },
 "nbformat": 4,
 "nbformat_minor": 4
}
