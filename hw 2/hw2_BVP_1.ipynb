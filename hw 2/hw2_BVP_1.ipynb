{
 "cells": [
  {
   "cell_type": "code",
   "execution_count": null,
   "metadata": {},
   "outputs": [],
   "source": [
    "from __future__ import print_function\n",
    "\n",
    "%matplotlib inline\n",
    "%precision 8\n",
    "\n",
    "import numpy\n",
    "import matplotlib.pyplot as plt"
   ]
  },
  {
   "cell_type": "markdown",
   "metadata": {
    "deletable": false,
    "editable": false,
    "nbgrader": {
     "cell_type": "markdown",
     "checksum": "3f092e67b484a1954d3ec5ec259bef78",
     "grade": false,
     "grade_id": "cell-8060040740038557",
     "locked": true,
     "schema_version": 3,
     "solution": false
    }
   },
   "source": [
    "Before you turn this problem in, make sure everything runs as expected. First, restart the kernel (in the menubar, select Kernel $\\rightarrow$ Restart) and then run all cells (in the menubar, select Cell $\\rightarrow$ Run All).\n",
    "\n",
    "Make sure you fill in any place that says YOUR CODE HERE or \"YOUR ANSWER HERE\", as well as your name and collaborators below:"
   ]
  },
  {
   "cell_type": "markdown",
   "metadata": {},
   "source": [
    "**My Name: Vincent Zhao**"
   ]
  },
  {
   "cell_type": "markdown",
   "metadata": {
    "deletable": false,
    "editable": false,
    "nbgrader": {
     "cell_type": "markdown",
     "checksum": "aa5b287941e60a426bb91dbb74b9fe46",
     "grade": false,
     "grade_id": "cell-138414089851314",
     "locked": true,
     "schema_version": 3,
     "solution": false
    }
   },
   "source": [
    "# HW 2: BVP Problems 1"
   ]
  },
  {
   "cell_type": "markdown",
   "metadata": {
    "deletable": false,
    "editable": false,
    "nbgrader": {
     "cell_type": "markdown",
     "checksum": "f8ef3c20a76cef05cbbcbe2e2362945d",
     "grade": false,
     "grade_id": "cell-7595355784299114",
     "locked": true,
     "schema_version": 3,
     "solution": false
    }
   },
   "source": [
    "## Question 1\n",
    "\n",
    "We can derive a non-uniform 3-point approximation to $u''(x_i)$ with the stencil\n",
    "$$\n",
    "    u''(x_i) \\approx \\frac{2}{\\Delta x_i ( \\Delta x_i + \\Delta x_{i+1} )} U_{i-1} - \\frac{2}{\\Delta x_i \\Delta x_{i+1}} U_{i} + \\frac{2}{\\Delta x_{i+1} ( \\Delta x_i + \\Delta x_{i+1} )} U_{i+1}\n",
    "$$\n",
    "where $\\Delta x_i = x_i - x_{i-1}$."
   ]
  },
  {
   "cell_type": "markdown",
   "metadata": {
    "deletable": false,
    "editable": false,
    "nbgrader": {
     "cell_type": "markdown",
     "checksum": "a6c319242c0d580f4db9442a52cae39d",
     "grade": false,
     "grade_id": "cell-3330788697384139",
     "locked": true,
     "schema_version": 3,
     "solution": false
    }
   },
   "source": [
    "**(a)** [15] Show that the truncation error for this approximation is \n",
    "$$\n",
    "    \\tau_i = \\frac{1}{3} (\\Delta x_{i+1} - \\Delta x_i) u^{(3)}(x_i) + \\frac{1}{12} \\left (\\frac{\\Delta x_i^3 + \\Delta x_{i+1}^3}{\\Delta x_i + \\Delta x_{i+1}} \\right ) u^{(4)}(x_i) + \\cdots.\n",
    "$$\n",
    "This leads us to believe that using this approach would be only first order accurate as \n",
    "$$\n",
    "    \\tau_i = \\mathcal{O}(\\max (\\Delta x_i, \\Delta x_{i+1} ) )\n",
    "$$\n",
    "if $\\Delta x_i \\neq \\Delta x_{i+1}$."
   ]
  },
  {
   "cell_type": "markdown",
   "metadata": {
    "deletable": false,
    "nbgrader": {
     "cell_type": "markdown",
     "checksum": "f1bb8db96cbcbd2e918d10b516cc758f",
     "grade": true,
     "grade_id": "cell-4030827056886998",
     "locked": false,
     "points": 15,
     "schema_version": 3,
     "solution": true
    }
   },
   "source": [
    "**Answer to Question 1 (a)**\n",
    "\n",
    "Since:\n",
    "$$\n",
    "    u''(x_i) \\approx \\frac{2}{\\Delta x_i ( \\Delta x_i + \\Delta x_{i+1} )} U_{i-1} - \\frac{2}{\\Delta x_i \\Delta x_{i+1}} U_{i} + \\frac{2}{\\Delta x_{i+1} ( \\Delta x_i + \\Delta x_{i+1} )} U_{i+1}\n",
    "$$\n",
    "\n",
    "We can know $\\tau_i$ should be goes like the equation below:\n",
    "\n",
    "$$\n",
    "    \u001f\\tau_i = \\frac{2}{\\Delta x_i ( \\Delta x_i + \\Delta x_{i+1} )} U_{i-1} - \\frac{2}{\\Delta x_i \\Delta x_{i+1}} U_{i} + \\frac{2}{\\Delta x_{i+1} ( \\Delta x_i + \\Delta x_{i+1} )} U_{i+1} - f(x_i)\n",
    "$$\n",
    "Where $f(x) = u^{\\prime\\prime}(x)$\n",
    "\n",
    "We also assume $u(x)$ is sommth and we can replace the $u(x_i)$ wieh their Taylor series counterparts below:\n",
    "$$\n",
    "    u(x_{i \\pm 1}) = u(x_i) \\pm u'(x_i) \\Delta x + \\frac{1}{2} u''(x_i) \\Delta x^2 \\pm \\frac{1}{6} u'''(x_i) \\Delta x^3 + \\frac{1}{24} u^{(4)}(x_i) \\Delta x^4 + \\mathcal{O}(\\Delta x^5)\n",
    "$$\n",
    "\n",
    "We then can have the expression of $u(x_{i+1})$ and $u(x_{i-1})$ separately:\n",
    "$$\n",
    "    u(x_{i + 1}) = u(x_i) + u'(x_i) \\Delta x + \\frac{1}{2} u''(x_i) \\Delta x^2 + \\frac{1}{6} u'''(x_i) \\Delta x^3 + \\frac{1}{24} u^{(4)}(x_i) \\Delta x^4 + \\mathcal{O}(\\Delta x^5)\n",
    "$$\n",
    "\n",
    "$$\n",
    "    u(x_{i - 1}) = u(x_i) - u'(x_i) \\Delta x + \\frac{1}{2} u''(x_i) \\Delta x^2 - \\frac{1}{6} u'''(x_i) \\Delta x^3 + \\frac{1}{24} u^{(4)}(x_i) \\Delta x^4 + \\mathcal{O}(\\Delta x^5)\n",
    "$$\n",
    "\n",
    "\n",
    "We also need to substitute these given info $\\Delta x_i \\neq \\Delta x_{i+1}$ and $\\Delta x_i = x_i - x_{i-1}$ into our Taylor series and get:\n",
    "$$\n",
    "    u(x_{i + 1}) = u(x_i) + u'(x_i) \\Delta x_{i+1} + \\frac{1}{2} u''(x_i) \\Delta x^2_{i+1} + \\frac{1}{6} u'''(x_i) \\Delta x^3_{i+1} + \\frac{1}{24} u^{(4)}(x_i) \\Delta x^4_{i+1} + \\mathcal{O}(\\Delta x^5_{i+1})\n",
    "$$\n",
    "\n",
    "$$\n",
    "    u(x_{i - 1}) = u(x_i) - u'(x_i) \\Delta x_{i} + \\frac{1}{2} u''(x_i) \\Delta x^2_{i} - \\frac{1}{6} u'''(x_i) \\Delta x^3_{i} + \\frac{1}{24} u^{(4)}(x_i) \\Delta x^4_{i} + \\mathcal{O}(\\Delta x^5_{i})\n",
    "$$\n",
    "\n",
    "Then, $\\tau$ can be rewritten as:\n",
    "$$\n",
    "\\begin{aligned}\n",
    "    \u001f\\tau_i &= \\frac{2}{\\Delta x_i ( \\Delta x_i + \\Delta x_{i+1} )} u(x_{i-1}) - \\frac{2}{\\Delta x_i \\Delta x_{i+1}} u(x_{i}) + \\frac{2}{\\Delta x_{i+1} ( \\Delta x_i + \\Delta x_{i+1} )} u(x_{i+1}) - f(x_i)\\\\\n",
    "    &= u^{\\prime\\prime} + \\frac{u^{(3)}(x_i)\\Delta x^3_{i+1}}{3\\Delta x_{i+1} (\\Delta x_i + \\Delta x_{i+1}) } \n",
    "    - \\frac{u^{(3)}(x_i)\\Delta x^3_{i}}{3\\Delta x_{i} (\\Delta x_i + \\Delta x_{i+1}) } \n",
    "    + \\frac{u^{(4)}(x_i)\\Delta x^4_{i+1}}{12\\Delta x_{i+1} (\\Delta x_i + \\Delta x_{i+1}) }\n",
    "    + \\frac{u^{(4)}(x_i)\\Delta x^4_{i}}{12\\Delta x_{i} (\\Delta x_i + \\Delta x_{i+1}) }\n",
    "    - f(x_i) + ...\\\\\n",
    "    &= \\frac{1}{3} (\\Delta x_{i+1} - \\Delta x_i) u^{(3)}(x_i) + \\frac{1}{12} \\left (\\frac{\\Delta x_i^3 + \\Delta x_{i+1}^3}{\\Delta x_i + \\Delta x_{i+1}} \\right ) u^{(4)}(x_i) + \\cdots.\n",
    "\\end{aligned}\n",
    "$$"
   ]
  },
  {
   "cell_type": "markdown",
   "metadata": {
    "deletable": false,
    "editable": false,
    "nbgrader": {
     "cell_type": "markdown",
     "checksum": "6f5129e9ee554d5711529e69a247edc7",
     "grade": false,
     "grade_id": "cell-9293833400915794",
     "locked": true,
     "schema_version": 3,
     "solution": false
    }
   },
   "source": [
    "**(b)** [20] Implement a finite difference method based on the above discretization for the problem\n",
    "$$\n",
    "    u''(x) = e^x ~~~~ \\Omega = [0, 1] \\\\\n",
    "    u(0) = \\alpha = 0 ~~~~ u(1) = \\beta = 3\n",
    "$$\n",
    "whose true solution is\n",
    "$$\n",
    "    u(x) = e^x + (\\sigma + 1) \\times (x - 3) + \\beta - e^3.\n",
    "$$\n",
    "Write the function so that it can take in a parameter `grid_type` that determines the type of grid to use."
   ]
  },
  {
   "cell_type": "code",
   "execution_count": null,
   "metadata": {
    "deletable": false,
    "editable": false,
    "nbgrader": {
     "cell_type": "code",
     "checksum": "d100c93654297e5f893c9d55611525c3",
     "grade": false,
     "grade_id": "cell-7634707865903642",
     "locked": true,
     "schema_version": 3,
     "solution": false
    }
   },
   "outputs": [],
   "source": [
    "def grid_points(a, b, m, grid_type='uniform'):\n",
    "    \"\"\"Returns a set of m grid points between a and b\n",
    "    \n",
    "    The parameter `grid_type` determines what the distribution of \n",
    "    points is.\n",
    "     - grid_type = 'uniform' - Uniform distribution of points\n",
    "     - grid_type = 'right_layer' - Clustered near right boundary\n",
    "     - grid_type = 'random' - Randomly distributed\n",
    "     - grid_type = 'chebyshev' - Chebyshev extreme points\n",
    "    \"\"\"\n",
    "    # Computational grid\n",
    "    z = numpy.linspace(0, 1, m + 2)\n",
    "    \n",
    "    if grid_type.lower() == \"uniform\":\n",
    "        x = a + (b - a) * z\n",
    "    elif grid_type.lower() == \"right_layer\":\n",
    "        x = a + (b - a) * (1.0 - (1.0 - z)**2)\n",
    "    elif grid_type.lower() == \"random\":\n",
    "        x = numpy.empty(m + 2)\n",
    "        x[1:-1] = a + (b - a) * numpy.sort(numpy.random.uniform(size=(m)))\n",
    "        x[0] = a\n",
    "        x[-1] = b\n",
    "    elif grid_type.lower() == \"chebyshev\":\n",
    "        x = a + (b - a) * 0.5 * (1.0 + numpy.cos(numpy.pi * (1.0 - z)))\n",
    "    else:\n",
    "        raise ValueError(\"Unknown grid type.\")\n",
    "    \n",
    "    return x"
   ]
  },
  {
   "cell_type": "code",
   "execution_count": null,
   "metadata": {
    "deletable": false,
    "nbgrader": {
     "cell_type": "code",
     "checksum": "a2d29a0e52eb3b0315a082d2ad0a3516",
     "grade": false,
     "grade_id": "cell-5057675592880702",
     "locked": false,
     "schema_version": 3,
     "solution": true
    }
   },
   "outputs": [],
   "source": [
    "def solve_nonuniform(a, b, alpha, beta, m, f, grid_type='uniform'):\n",
    "    \"\"\"Solve the ODE u'' = f(x)\n",
    "    \n",
    "    This function solves the ODE above using the grid specfied on the\n",
    "    interval x \\in [a, b] with boundary conditions u(a) = alpha and\n",
    "    u(b) = beta.\n",
    "    \n",
    "    :Input:\n",
    "     - *a* (float) - The beginning of the interval x \\in [a, b]\n",
    "     - *b* (float) - The end of the interval x \\in [a, b]\n",
    "     - *alpha* (float) - Value that defines the BC at x = a\n",
    "     - *beta* (float) - Value that defines the BC at x = b\n",
    "     - *m* (int) - Number of grid points to use\n",
    "     - *f* (func) - Right hand side function defined in the ODE\n",
    "     - *grid_type* (string) - Type of grid to use\n",
    "     \n",
    "    :Output:\n",
    "     - *x* (ndarray) - Location of grid points used including boundaries\n",
    "     - *U* (ndarray) - Solution array including boundary conditions (m + 2)\n",
    "    \"\"\"\n",
    "    \n",
    "    x = grid_points(a, b, m, grid_type) \n",
    "    \n",
    "    # construct matrix A\n",
    "    A = numpy.zeros((m + 2, m + 2))\n",
    "    \n",
    "    for i in range(1, m + 1):\n",
    "        delta_i = x[i] - x[i-1]\n",
    "        delta_i1 = x[i+1] - x[i]\n",
    "        A[i,i] = -2.0 / (delta_i * delta_i1)\n",
    "        A[i,i-1] = 2.0 / (delta_i * (delta_i + delta_i1))\n",
    "        A[i,i+1] = 2.0 / (delta_i1 * (delta_i + delta_i1))\n",
    "    \n",
    "    # Boundary conditions\n",
    "    A[0, 0] = 1.0\n",
    "    A[0, 1] = 0.0\n",
    "    A[-1, -1] = 1.0\n",
    "    A[-1, -2] = 0.0\n",
    "    \n",
    "    # Construct RHS\n",
    "    b = numpy.zeros(m+2)\n",
    "    x1 = x[1:-1]\n",
    "    b[1:-1] = f(x1)\n",
    "    b[0] = alpha \n",
    "    b[-1] = beta \n",
    "    \n",
    "    # Solve system\n",
    "    U = numpy.linalg.solve(A, b)\n",
    "    \n",
    "    \n",
    "#     # YOUR CODE HERE\n",
    "#     raise NotImplementedError()\n",
    "    return x, U"
   ]
  },
  {
   "cell_type": "code",
   "execution_count": null,
   "metadata": {
    "deletable": false,
    "editable": false,
    "nbgrader": {
     "cell_type": "code",
     "checksum": "090b6f6bb60eaf5715d6228d72ea2efa",
     "grade": true,
     "grade_id": "cell-1271126761078309",
     "locked": true,
     "points": 20,
     "schema_version": 3,
     "solution": false
    }
   },
   "outputs": [],
   "source": [
    "a = 0.0\n",
    "b = 1.0\n",
    "alpha = 0.0\n",
    "beta = 3.0\n",
    "f = lambda x: numpy.exp(x)\n",
    "u_true = lambda x: (4.0 - numpy.exp(1.0)) * x - 1.0 + numpy.exp(x)\n",
    "x, U = solve_nonuniform(a, b, alpha, beta, 100, f, grid_type='uniform')\n",
    "print(numpy.linalg.norm(u_true(x) - U, ord=2))\n",
    "fig = plt.figure()\n",
    "axes = fig.add_subplot(1, 1, 1)\n",
    "axes.plot(x, U, 'bo')\n",
    "axes.plot(x, u_true(x), 'k')\n",
    "axes.set_xlabel(\"x\")\n",
    "axes.set_ylabel(\"u(x)\")\n",
    "axes.set_xlim((a, b))\n",
    "assert(numpy.linalg.norm(u_true(x) - U, ord=2) < 1e-4)\n",
    "print(\"Success!\")"
   ]
  },
  {
   "cell_type": "markdown",
   "metadata": {
    "deletable": false,
    "editable": false,
    "nbgrader": {
     "cell_type": "markdown",
     "checksum": "ea741153c1f3f2d31ff9cc20a449692a",
     "grade": false,
     "grade_id": "cell-6413719625269727",
     "locked": true,
     "schema_version": 3,
     "solution": false
    }
   },
   "source": [
    "**(c)** [10] We would expect in general then that we would see only 1st order convergence if we let `grid_type = 'random'`.  Analyze the convergence of the method using each of the types of point distributions available in the function `grid_points`.  Use the $\\Delta x$ computed from the uniform grid point distribution."
   ]
  },
  {
   "cell_type": "code",
   "execution_count": null,
   "metadata": {
    "deletable": false,
    "nbgrader": {
     "cell_type": "code",
     "checksum": "fdf6e7b8bda1f900d7c620ff52c76a4f",
     "grade": true,
     "grade_id": "cell-8633857151302828",
     "locked": false,
     "points": 10,
     "schema_version": 3,
     "solution": true
    }
   },
   "outputs": [],
   "source": [
    "# Problem setup\n",
    "a = 0.0\n",
    "b = 1.0\n",
    "alpha = 0.0\n",
    "beta = 3.0\n",
    "f = lambda x: numpy.exp(x)\n",
    "u_true = lambda x: (4.0 - numpy.exp(1.0)) * x - 1.0 + numpy.exp(x)\n",
    "\n",
    "#compute the error as a function of delta_X\n",
    "m_range = numpy.arange(10, 1000, 10)\n",
    "delta_x = numpy.empty(m_range.shape)\n",
    "error = numpy.empty((m_range.shape[0],4))\n",
    "\n",
    "grid_type = [\"uniform\", \"right_layer\", \"random\", \"chebyshev\"]\n",
    "\n",
    "for (i, m) in enumerate(m_range):\n",
    "    \n",
    "    delta_x[i] = (b - a) / (m + 1)\n",
    "    \n",
    "    #compute solution\n",
    "    for k in range(4):\n",
    "        x, U = solve_nonuniform(a, b, alpha, beta, m, f, grid_type=grid_type[k])\n",
    "        error[i, k] = numpy.linalg.norm(U - u_true(x), ord=2) / numpy.linalg.norm(u_true(x),ord =2)\n",
    "\n",
    "titles = [\"uniform\", \"right_layer\", \"random\", \"chebyshev\"]\n",
    "order_C = lambda delta_x, error, order: numpy.exp(numpy.log(error) - order * numpy.log(delta_x))\n",
    "\n",
    "for i in range(4):\n",
    "    fig = plt.figure()\n",
    "    axes = fig.add_subplot(1, 1, 1)\n",
    "\n",
    "    axes.loglog(delta_x, error[:, i], 'ko', label=\"Approx. Derivative\")\n",
    "\n",
    "    axes.loglog(delta_x, order_C(delta_x[0], error[0,i], 1.0) * delta_x**1.0, 'r--', label=\"1st Order\")\n",
    "    axes.loglog(delta_x, order_C(delta_x[0], error[0,i], 2.0) * delta_x**2.0, 'b--', label=\"2nd Order\")\n",
    "    \n",
    "    axes.legend(loc=4)\n",
    "    axes.set_title(titles[i])\n",
    "    axes.set_xlabel(\"$\\Delta x$\")\n",
    "    axes.set_ylabel(\"$|u(x) - U|$\")\n",
    "\n",
    "plt.show()\n",
    "\n",
    "\n",
    "# # YOUR CODE HERE\n",
    "# raise NotImplementedError()"
   ]
  },
  {
   "cell_type": "markdown",
   "metadata": {
    "deletable": false,
    "editable": false,
    "nbgrader": {
     "cell_type": "markdown",
     "checksum": "601e652d2f83582e34e9bc2746fcfc0c",
     "grade": false,
     "grade_id": "cell-4176609066127934",
     "locked": true,
     "schema_version": 3,
     "solution": false
    }
   },
   "source": [
    "## Question 2\n",
    "\n",
    "Consider the convection-diffusion problem defined by\n",
    "$$\n",
    "    u_t + au_x = \\kappa u_{xx} + \\psi(x)\n",
    "$$\n",
    "This is similar to the heat conduction problem except that we also have a convective term $a~u_x$.  You can think of $u(x,t)$ as describing the distribution of dye in a stream flowing at velocity $a$ where $\\kappa$ describes how quickly the dye diffuses and $\\psi(x)$ represents dye being added to the stream.\n",
    "\n",
    "Considering the steady state solution of the problem above leads to the ODE\n",
    "$$\n",
    "    \\epsilon u''(x) - u'(x) = f(x)\n",
    "$$\n",
    "where $\\epsilon$ represents the relative strength of the advective and diffusive effects.\n",
    "\n",
    "We will solve this problem with the domain and boundary conditions\n",
    "$$\n",
    "    \\Omega = [0, 1] ~~~~ u(0)=\\alpha ~~~~ u(1)=\\beta ~~~~ f(x) = -1\n",
    "$$\n",
    "whose true solution is\n",
    "$$\n",
    "    u(x) = \\alpha + x + (\\beta - \\alpha -1) \\left( \\frac{e^{x / \\epsilon} - 1}{e^{1 / \\epsilon} - 1} \\right ).\n",
    "$$"
   ]
  },
  {
   "cell_type": "markdown",
   "metadata": {
    "deletable": false,
    "editable": false,
    "nbgrader": {
     "cell_type": "markdown",
     "checksum": "4e24e4878ce1983beb0ebffec2250771",
     "grade": false,
     "grade_id": "cell-6364957568892671",
     "locked": true,
     "schema_version": 3,
     "solution": false
    }
   },
   "source": [
    "**(a)** [10] Discretize the boundary value problem presented using at least second order finite difference methods.  Make sure to pick the appropriate finite difference approach at the boundaries."
   ]
  },
  {
   "cell_type": "code",
   "execution_count": null,
   "metadata": {
    "deletable": false,
    "nbgrader": {
     "cell_type": "code",
     "checksum": "aa427c9b93bd80aa22f2153ac304ffbb",
     "grade": false,
     "grade_id": "cell-484106738343592",
     "locked": false,
     "schema_version": 3,
     "solution": true
    }
   },
   "outputs": [],
   "source": [
    "def solve_adv_diff(alpha, beta, epsilon, m):\n",
    "    \"\"\"Solve the steady-state advection-diffusion problem\n",
    "    \n",
    "    :Input\n",
    "     - *alpha* (float) - Value that defines the BC at x = 0\n",
    "     - *beta* (float) - Value that defines the BC at x = 1\n",
    "     - *epsilon* (float) - The ratio of the advection speed and diffusivity\n",
    "     - *m* (int) - Number of grid points to use\n",
    "     \n",
    "    :Output:\n",
    "     - *x* (ndarray) - Location of grid points used including boundaries\n",
    "     - *U* (ndarray) - Solution array including boundary conditions (m + 2)\n",
    "    \"\"\"\n",
    "    \n",
    "    # Descretization\n",
    "    x = numpy.linspace(0., 1., m + 2)\n",
    "    delta_x = 1.0 / (m + 1)\n",
    "    f = lambda x: -1.\n",
    "\n",
    "    # Matrix Construction\n",
    "    A = numpy.zeros((m, m))\n",
    "    diagonal = epsilon * numpy.ones(m) / delta_x**2\n",
    "    A += numpy.diag(diagonal * -2.0, 0)\n",
    "    A += numpy.diag(diagonal[:-1] - 1.0/(2.0 * delta_x), 1)\n",
    "    A += numpy.diag(diagonal[:-1] + 1.0/(2.0 * delta_x), -1)\n",
    "\n",
    "    # Construct RHS\n",
    "    b = f(x) * numpy.ones(m)\n",
    "    b[0] -= epsilon * alpha/delta_x**2 + alpha/(2 * delta_x)\n",
    "    b[-1] -= epsilon * beta/delta_x**2 - beta/(2 * delta_x)\n",
    "    \n",
    "    # Solve system\n",
    "    U = numpy.empty(m + 2)\n",
    "    U[0] = alpha\n",
    "    U[-1] = beta\n",
    "    U[1:-1] = numpy.linalg.solve(A, b)\n",
    "    \n",
    "#     # YOUR CODE HERE\n",
    "#     raise NotImplementedError()\n",
    "    return x, U"
   ]
  },
  {
   "cell_type": "code",
   "execution_count": null,
   "metadata": {
    "deletable": false,
    "editable": false,
    "nbgrader": {
     "cell_type": "code",
     "checksum": "fec8513511b69008ac1a3980553330dd",
     "grade": true,
     "grade_id": "cell-6991656051774681",
     "locked": true,
     "points": 10,
     "schema_version": 3,
     "solution": false
    }
   },
   "outputs": [],
   "source": [
    "alpha = 1.0\n",
    "beta = 3.0\n",
    "epsilon = -0.1\n",
    "u_true = lambda x: alpha + x + (beta - alpha - 1.0) * (numpy.exp(x / epsilon) - 1.0) / (numpy.exp(1.0 / epsilon) - 1.0)\n",
    "x, U = solve_adv_diff(alpha, beta, epsilon, 100)\n",
    "\n",
    "fig = plt.figure()\n",
    "axes = fig.add_subplot(1, 1, 1)\n",
    "axes.plot(x, U, 'bo')\n",
    "axes.plot(x, u_true(x), 'k')\n",
    "axes.set_xlabel(\"x\")\n",
    "axes.set_ylabel(\"u(x)\")\n",
    "axes.set_xlim((0.0, 1.0))\n",
    "\n",
    "error = numpy.linalg.norm((x[1] - x[0]) * (U - u_true(x)), ord=1)\n",
    "print(error)\n",
    "assert(error < 1e-4)\n",
    "print(\"Success!\")"
   ]
  },
  {
   "cell_type": "markdown",
   "metadata": {
    "deletable": false,
    "editable": false,
    "nbgrader": {
     "cell_type": "markdown",
     "checksum": "4403ad6ea64193e30eadbef80fce042e",
     "grade": false,
     "grade_id": "cell-7157645900336997",
     "locked": true,
     "schema_version": 3,
     "solution": false
    }
   },
   "source": [
    "**(b)** [10] Using your function from part (a) explore the parameter space a bit by varying $m$ and $\\epsilon$.  Suggested values to explore include $m \\in [10, 100]$ and $\\epsilon \\in [-0.01, -1.0]$.\n",
    "\n",
    "Describe what you observe with both plots and written observations.  In particular do your solutions seem physically reasonable?  If your code has difficulties explain why it might be having issues."
   ]
  },
  {
   "cell_type": "code",
   "execution_count": null,
   "metadata": {
    "deletable": false,
    "nbgrader": {
     "cell_type": "code",
     "checksum": "f2337cb477486a10d07a6c347e1534fa",
     "grade": true,
     "grade_id": "cell-4718808055966480",
     "locked": false,
     "points": 5,
     "schema_version": 3,
     "solution": true
    }
   },
   "outputs": [],
   "source": [
    "a = 0.0\n",
    "b = 1.0\n",
    "alpha = 1.0\n",
    "beta = 3.0\n",
    "epsilon = -0.1\n",
    "u_true = lambda x: alpha + x + (beta - alpha - 1.0) * (numpy.exp(x / epsilon) - 1.0) / (numpy.exp(1.0 / epsilon) - 1.0)\n",
    "\n",
    "# # YOUR CODE HERE\n",
    "# raise NotImplementedError()\n",
    "\n",
    "x, U = solve_adv_diff(alpha, beta, epsilon=-0.01, m=10)\n",
    "plt.plot(x, U, 'b', alpha=0.8, label='Approximate Solution')\n",
    "plt.plot(x, u_true(x), 'k', alpha=1, label='True Solution')\n",
    "plt.title(r'$\\epsilon = -0.01, m = 10$')\n",
    "plt.xlabel(\"$x$\")\n",
    "plt.ylabel(\"$u(x)$\",rotation = 0)\n",
    "plt.legend(loc = 'best')\n",
    "plt.grid()\n",
    "plt.show()\n",
    "\n",
    "x, U = solve_adv_diff(alpha, beta, epsilon=-0.01, m=50)\n",
    "plt.plot(x, U, 'b', alpha=0.8, label='Approximate Solution')\n",
    "plt.plot(x, u_true(x), 'k', alpha=1, label='True Solution')\n",
    "plt.title(r'$\\epsilon = -0.01, m = 50$')\n",
    "plt.xlabel(\"x\")\n",
    "plt.ylabel(\"u(x)\")\n",
    "plt.legend()\n",
    "plt.grid()\n",
    "plt.show()\n",
    "\n",
    "\n",
    "x, U = solve_adv_diff(alpha, beta, epsilon=-0.01, m=100)\n",
    "plt.plot(x, U, 'b', alpha=0.8, label='Approximate Solution')\n",
    "plt.plot(x, u_true(x), 'k', alpha=1, label='True Solution')\n",
    "plt.title(r'$\\epsilon = -0.01, m = 100$')\n",
    "plt.xlabel(\"x\")\n",
    "plt.ylabel(\"u(x)\")\n",
    "plt.legend()\n",
    "plt.grid()\n",
    "plt.show()\n",
    "\n",
    "\n",
    "x, U = solve_adv_diff(alpha, beta, epsilon=-0.05, m=10)\n",
    "plt.plot(x, U, 'b', alpha=0.8, label='Approximate Solution')\n",
    "plt.plot(x, u_true(x), 'k', alpha=1, label='True Solution')\n",
    "plt.title(r'$\\epsilon = -0.1, m = 10$')\n",
    "plt.xlabel(\"x\")\n",
    "plt.ylabel(\"u(x)\")\n",
    "plt.legend()\n",
    "plt.grid()\n",
    "plt.show()\n",
    "\n",
    "x, U = solve_adv_diff(alpha, beta, epsilon=-0.05, m=50)\n",
    "plt.plot(x, U, 'b', alpha=0.8, label='Approximate Solution')\n",
    "plt.plot(x, u_true(x), 'k', alpha=1, label='True Solution')\n",
    "plt.title(r'$\\epsilon = -0.1, m = 50$')\n",
    "plt.xlabel(\"x\")\n",
    "plt.ylabel(\"u(x)\")\n",
    "plt.legend()\n",
    "plt.grid()\n",
    "plt.show()\n",
    "\n",
    "x, U = solve_adv_diff(alpha, beta, epsilon=-0.05, m=100)\n",
    "plt.plot(x, U, 'b', alpha=0.8, label='Approximate Solution')\n",
    "plt.plot(x, u_true(x), 'k', alpha=1, label='True Solution')\n",
    "plt.title(r'$\\epsilon = -0.1, m = 100$')\n",
    "plt.xlabel(\"x\")\n",
    "plt.ylabel(\"u(x)\")\n",
    "plt.legend()\n",
    "plt.grid()\n",
    "plt.show()\n",
    "\n",
    "x, U = solve_adv_diff(alpha, beta, epsilon=-0.1, m=10)\n",
    "plt.plot(x, U, 'b', alpha=0.8, label='Approximate Solution')\n",
    "plt.plot(x, u_true(x), 'k', alpha=1, label='True Solution')\n",
    "plt.title(r'$\\epsilon = -0.1, m = 10$')\n",
    "plt.xlabel(\"x\")\n",
    "plt.ylabel(\"u(x)\")\n",
    "plt.legend()\n",
    "plt.grid()\n",
    "plt.show()\n",
    "\n",
    "x, U = solve_adv_diff(alpha, beta, epsilon=-0.1, m=50)\n",
    "plt.plot(x, U, 'b', alpha=0.8, label='Approximate Solution')\n",
    "plt.plot(x, u_true(x), 'k', alpha=1, label='True Solution')\n",
    "plt.title(r'$\\epsilon = -0.1, m = 50$')\n",
    "plt.xlabel(\"x\")\n",
    "plt.ylabel(\"u(x)\")\n",
    "plt.legend()\n",
    "plt.grid()\n",
    "plt.show()\n",
    "\n",
    "x, U = solve_adv_diff(alpha, beta, epsilon=-0.1, m=100)\n",
    "plt.plot(x, U, 'b', alpha=0.8, label='Approximate Solution')\n",
    "plt.plot(x, u_true(x), 'k', alpha=1, label='True Solution')\n",
    "plt.title(r'$\\epsilon = -0.1, m = 100$')\n",
    "plt.xlabel(\"x\")\n",
    "plt.ylabel(\"u(x)\")\n",
    "plt.legend()\n",
    "plt.grid()\n",
    "plt.show()\n"
   ]
  },
  {
   "cell_type": "markdown",
   "metadata": {
    "deletable": false,
    "nbgrader": {
     "cell_type": "markdown",
     "checksum": "3b1ddbb4e7856e39ede0af75ca0d178f",
     "grade": true,
     "grade_id": "cell-8000155034097309",
     "locked": false,
     "points": 5,
     "schema_version": 3,
     "solution": true
    }
   },
   "source": [
    "**Answer to Question 2**\n",
    "\n",
    "I tried three $\\epsilon$ and three $m$ respectively and found something below:\n",
    "- $\\epsilon$ controls whether our approximate solution is close to the true solution, when $\\epsilon$ goes from $-0.01$ to $-0.1$, my approximate solution goes closer to the true solution\n",
    "- $m$ controls whether the approximate solution is smooth enough, which means how many jumps or steps or points we need to use to simulate the true solution. When m goes larger, the curve of approximate solution will be smoother"
   ]
  },
  {
   "cell_type": "markdown",
   "metadata": {
    "deletable": false,
    "editable": false,
    "nbgrader": {
     "cell_type": "markdown",
     "checksum": "78b3849c8183edab435e0fe3664b3669",
     "grade": false,
     "grade_id": "cell-1730620894910562",
     "locked": true,
     "schema_version": 3,
     "solution": false
    }
   },
   "source": [
    "## Question 3\n",
    "\n",
    "Consider the following BVP:\n",
    "$$\n",
    "    u''(x) + u(x) = 0 \\quad \\quad x \\in \\Omega = (a, b) \\\\\n",
    "    u(a) = \\alpha \\quad u(b) = \\beta\n",
    "$$\n",
    "where $L = b - a$."
   ]
  },
  {
   "cell_type": "markdown",
   "metadata": {
    "deletable": false,
    "editable": false,
    "nbgrader": {
     "cell_type": "markdown",
     "checksum": "780c0c6f1be5279bff4489197f0d4dad",
     "grade": false,
     "grade_id": "cell-3634604877306792",
     "locked": true,
     "schema_version": 3,
     "solution": false
    }
   },
   "source": [
    "**(a)** [10] What is the exact solution of the BVP?"
   ]
  },
  {
   "cell_type": "markdown",
   "metadata": {
    "deletable": false,
    "nbgrader": {
     "cell_type": "markdown",
     "checksum": "dfb9ebfe6bd1e6a2e592d936567c0395",
     "grade": true,
     "grade_id": "cell-3539711075833027",
     "locked": false,
     "points": 10,
     "schema_version": 3,
     "solution": true
    }
   },
   "source": [
    "We know from the equation $u''(x) + u(x) = 0$ that the exact solution of the BVP could be:\n",
    "$$u(x) = c_1 cos(x) + c_2 sin(x)$$\n",
    "\n",
    "Then, we can derive $c_1$ and $c_2$ from the given boundary condition below:\n",
    "$$u(a) = \\alpha \\quad u(b) = \\beta$$\n",
    "\n",
    "First, substitute (a,$\\alpha$) and (b,$\\beta$) into our solution, we can get:\n",
    "$$\n",
    " \\alpha = u(a) = c_1 cos(a) + c_2 sin(a) \\quad \\quad (1)\\\\\n",
    " \\beta = u(b) = c_1 cos(b) + c_2 sin(b) \\quad \\quad (2)\n",
    "$$\n",
    "\n",
    "$(1) \\times sin(b) - (2) \\times sin(a)$ we can get $c_1$:\n",
    "\n",
    "$$\n",
    "c_1 = \\frac{\\beta sin(a) - \\alpha sin(b)}{cos(b)sin(a) - cos(a)sin(b)}\n",
    "$$\n",
    "\n",
    "\n",
    "$(1) \\times cos(b) - (2) \\times cos(a)$ we can then get $c_2$:\n",
    "\n",
    "$$\n",
    "c_2 = \\frac{\\beta cos(a) - \\alpha cos(b)}{sin(b)cos(a) - sin(a)cos(b)}\n",
    "$$\n",
    "\n",
    "$u(x)$ can then be rewritten as:\n",
    "$$\n",
    "u(x) = \\frac{\\beta sin(a) - \\alpha sin(b)}{cos(b)sin(a) - cos(a)sin(b)} cos(x) + \\frac{\\beta cos(a) - \\alpha cos(b)}{sin(b)cos(a) - sin(a)cos(b)} sin(x)\n",
    "$$"
   ]
  },
  {
   "cell_type": "markdown",
   "metadata": {
    "deletable": false,
    "editable": false,
    "nbgrader": {
     "cell_type": "markdown",
     "checksum": "7cd7a109e9c2fc9c4b01d6dad31e2d63",
     "grade": false,
     "grade_id": "cell-8896567912616505",
     "locked": true,
     "schema_version": 3,
     "solution": false
    }
   },
   "source": [
    "**(b)** [15] Write a function that solves this equation using a finite difference approximation."
   ]
  },
  {
   "cell_type": "code",
   "execution_count": null,
   "metadata": {
    "deletable": false,
    "nbgrader": {
     "cell_type": "code",
     "checksum": "5ae4046710e068855479e41cf392d287",
     "grade": false,
     "grade_id": "cell-928726382559822",
     "locked": false,
     "schema_version": 3,
     "solution": true
    }
   },
   "outputs": [],
   "source": [
    "def solve_linear_pendulum(a, b, alpha, beta, m):\n",
    "    \"\"\"Solve u'' + u = 0 with x \\in (a, b) and u(a) = \\alpha, u(b) = \\beta\n",
    "    \n",
    "    Returns the points the solution was approximated at including the boundaries and\n",
    "    the solution\n",
    "    \"\"\"\n",
    "    # Descretization\n",
    "    x = numpy.linspace(a, b, m + 2)\n",
    "    delta_x = (b - a) / (m + 1)\n",
    "    \n",
    "    # Matrix Construction\n",
    "    A = numpy.zeros((m, m))\n",
    "    diagonal = numpy.ones(m)\n",
    "    A += numpy.diag((delta_x**2 - 2.) * diagonal, 0)\n",
    "    A += numpy.diag(diagonal[:-1], 1)\n",
    "    A += numpy.diag(diagonal[:-1], -1)\n",
    "    \n",
    "    # Construct RHS\n",
    "    b = numpy.zeros(m)\n",
    "    b[0] -= alpha\n",
    "    b[-1] -= beta\n",
    "    \n",
    "    # Solve system\n",
    "    U = numpy.empty(m + 2)\n",
    "    U[0] = alpha \n",
    "    U[-1] = beta \n",
    "    U[1:-1] = numpy.linalg.solve(A, b)\n",
    "    \n",
    "    \n",
    "#     # YOUR CODE HERE\n",
    "#     raise NotImplementedError()\n",
    "    return x, U"
   ]
  },
  {
   "cell_type": "code",
   "execution_count": null,
   "metadata": {},
   "outputs": [],
   "source": [
    "a = 0.0\n",
    "b = 1.0\n",
    "alpha = 2.0\n",
    "beta = 3.0\n",
    "C1 = (alpha - beta * numpy.sin(a) / numpy.sin(b)) / (numpy.cos(a) - numpy.sin(a) / numpy.tan(b))\n",
    "C2 = beta / numpy.sin(b) - C1 / numpy.tan(b)\n",
    "u_true = lambda x: C1 * numpy.cos(x) + C2 * numpy.sin(x)\n",
    "x, U = solve_linear_pendulum(a, b, alpha, beta, 200)\n",
    "fig = plt.figure()\n",
    "axes = fig.add_subplot(1, 1, 1)\n",
    "axes.plot(x, u_true(x), 'k')\n",
    "axes.plot(x, U, 'ob')\n",
    "axes.set_xlim(a, b)\n",
    "axes.set_xlabel(\"x\")\n",
    "axes.set_ylabel(\"u(x)\")\n",
    "error = numpy.linalg.norm((x[1] - x[0]) * (U - u_true(x)), ord=1)\n",
    "print(\"Error = \", error)\n",
    "assert(error < 1e-5)\n",
    "print(\"Success!\")"
   ]
  },
  {
   "cell_type": "code",
   "execution_count": null,
   "metadata": {
    "deletable": false,
    "editable": false,
    "nbgrader": {
     "cell_type": "code",
     "checksum": "cbf8f525bc3da4f07754000b74fba487",
     "grade": true,
     "grade_id": "cell-3018382947949415",
     "locked": true,
     "points": 15,
     "schema_version": 3,
     "solution": false
    }
   },
   "outputs": [],
   "source": [
    "a = 0.0\n",
    "b = 1.0\n",
    "alpha = 2.0\n",
    "beta = 3.0\n",
    "C1 = (alpha - beta * numpy.sin(a) / numpy.sin(b)) / (numpy.cos(a) - numpy.sin(a) / numpy.tan(b))\n",
    "C2 = beta / numpy.sin(b) - C1 / numpy.tan(b)\n",
    "u_true = lambda x: C1 * numpy.cos(x) + C2 * numpy.sin(x)\n",
    "x, U = solve_linear_pendulum(a, b, alpha, beta, 100)\n",
    "fig = plt.figure()\n",
    "axes = fig.add_subplot(1, 1, 1)\n",
    "axes.plot(x, u_true(x), 'k')\n",
    "axes.plot(x, U, 'ob')\n",
    "axes.set_xlim(a, b)\n",
    "axes.set_xlabel(\"x\")\n",
    "axes.set_ylabel(\"u(x)\")\n",
    "error = numpy.linalg.norm((x[1] - x[0]) * (U - u_true(x)), ord=1)\n",
    "print(\"Error = \", error)\n",
    "assert(error < 1e-5)\n",
    "print(\"Success!\")"
   ]
  },
  {
   "cell_type": "markdown",
   "metadata": {
    "deletable": false,
    "editable": false,
    "nbgrader": {
     "cell_type": "markdown",
     "checksum": "ce6b3278ae23c7c506b4a646e91c4c01",
     "grade": false,
     "grade_id": "cell-9633302938333814",
     "locked": true,
     "schema_version": 3,
     "solution": false
    }
   },
   "source": [
    "**(c)** [5] Let $a=0$ and $b=\\pi$.  For what values of $\\alpha$ and $\\beta$ does this BVP have solutions?  Sketch out a family of solutions in the case of infinite numbers of solutions."
   ]
  },
  {
   "cell_type": "markdown",
   "metadata": {
    "deletable": false,
    "nbgrader": {
     "cell_type": "markdown",
     "checksum": "19d196446711b67d9962b79f01e0a9a7",
     "grade": true,
     "grade_id": "cell-5480550098808611",
     "locked": false,
     "points": 2.5,
     "schema_version": 3,
     "solution": true
    }
   },
   "source": [
    "**Answer to Question 3 (c)**\n",
    "\n",
    "When $a = 0$ and $b = \\pi$, substitute them into our $u(x)$ we then can get:\n",
    "\n",
    "$$\n",
    "u(0) = c_1 = \\alpha\\\\\n",
    "u(\\pi) = -c_1 = \\beta\n",
    "$$\n",
    "\n",
    "We can only have solutions when $\\alpha = -\\beta$"
   ]
  },
  {
   "cell_type": "code",
   "execution_count": null,
   "metadata": {},
   "outputs": [],
   "source": [
    "def solve_linear_pendulum(a, b, alpha, beta, m):\n",
    "    \"\"\"Solve u'' + u = 0 with x \\in (a, b) and u(a) = \\alpha, u(b) = \\beta\n",
    "    \n",
    "    Returns the points the solution was approximated at including the boundaries and\n",
    "    the solution\n",
    "    \"\"\"\n",
    "    # Descretization\n",
    "    x = numpy.linspace(a, b, m + 2)\n",
    "    delta_x = (b - a) / (m + 1)\n",
    "    \n",
    "    # Matrix Construction\n",
    "    A = numpy.zeros((m, m))\n",
    "    diagonal = numpy.ones(m)\n",
    "    A += numpy.diag((delta_x**2 - 2.) * diagonal, 0)\n",
    "    A += numpy.diag(diagonal[:-1], 1)\n",
    "    A += numpy.diag(diagonal[:-1], -1)\n",
    "    \n",
    "    # Construct RHS\n",
    "    b = numpy.zeros(m)\n",
    "    b[0] -= alpha\n",
    "    b[-1] -= beta\n",
    "    \n",
    "    # Solve system\n",
    "    U = numpy.empty(m + 2)\n",
    "    U[0] = alpha \n",
    "    U[-1] = beta \n",
    "    U[1:-1] = numpy.linalg.solve(A, b)\n",
    "    \n",
    "    \n",
    "#     # YOUR CODE HERE\n",
    "#     raise NotImplementedError()\n",
    "    return x, U"
   ]
  },
  {
   "cell_type": "code",
   "execution_count": null,
   "metadata": {
    "deletable": false,
    "nbgrader": {
     "cell_type": "code",
     "checksum": "52e1c39b0345408135002864778d3ac5",
     "grade": true,
     "grade_id": "cell-7949057030139063",
     "locked": false,
     "points": 2.5,
     "schema_version": 3,
     "solution": true
    }
   },
   "outputs": [],
   "source": [
    "a = 0.0\n",
    "b = numpy.pi\n",
    "\n",
    "for c in range(-5,5):\n",
    "    alpha = c\n",
    "    beta = -c\n",
    "    C1 = (alpha - beta * numpy.sin(a) / numpy.sin(b)) / (numpy.cos(a) - numpy.sin(a) / numpy.tan(b))\n",
    "    C2 = beta / numpy.sin(b) - C1 / numpy.tan(b)\n",
    "    u_true = lambda x: C1 * numpy.cos(x) + C2 * numpy.sin(x)\n",
    "    x, U = solve_linear_pendulum(a, b, alpha, beta, 100)\n",
    "    fig = plt.figure()\n",
    "    axes = fig.add_subplot(1, 1, 1)\n",
    "    axes.set_title(\"Solution and approximate solution when alpha = {}\".format(c))\n",
    "    axes.plot(x, u_true(x), 'k', label = 'u_true')\n",
    "    axes.plot(x, U, 'ob', label = 'approximate')\n",
    "    axes.legend(loc='best')\n",
    "    axes.set_xlim(a, b)\n",
    "    axes.set_xlabel(\"x\")\n",
    "    axes.set_ylabel(\"u(x)\")\n",
    "\n",
    "# # YOUR CODE HERE\n",
    "# raise NotImplementedError()"
   ]
  },
  {
   "cell_type": "markdown",
   "metadata": {
    "deletable": false,
    "editable": false,
    "nbgrader": {
     "cell_type": "markdown",
     "checksum": "b0752b44523437a58fcc2bd7b91cb64d",
     "grade": false,
     "grade_id": "cell-1730304330020964",
     "locked": true,
     "schema_version": 3,
     "solution": false
    }
   },
   "source": [
    "**(d)** [5] What happens numerically for the values $a = 0$, $b = \\pi$, $\\alpha = 1$, $\\beta = -1$ as $\\Delta x \\rightarrow 0$?  Also try with $\\alpha = \\beta = 1$."
   ]
  },
  {
   "cell_type": "markdown",
   "metadata": {
    "deletable": false,
    "nbgrader": {
     "cell_type": "markdown",
     "checksum": "b3af7f1b436a3d17aa30098a2264808a",
     "grade": true,
     "grade_id": "cell-9163036478906246",
     "locked": false,
     "points": 2.5,
     "schema_version": 3,
     "solution": true
    }
   },
   "source": [
    "**Answer to Question 3 (d)**\n",
    "\n",
    "when $a = 0$, $b = \\pi$, $\\alpha = 1$, $\\beta = -1$ as $\\Delta x \\rightarrow 0$ we can know that the exact value and approximate solution are very close to each other"
   ]
  },
  {
   "cell_type": "code",
   "execution_count": null,
   "metadata": {
    "deletable": false,
    "nbgrader": {
     "cell_type": "code",
     "checksum": "05cbe4f93c86db1171b331d71eeef502",
     "grade": true,
     "grade_id": "cell-5755573651360367",
     "locked": false,
     "points": 2.5,
     "schema_version": 3,
     "solution": true
    }
   },
   "outputs": [],
   "source": [
    "a = 0.0\n",
    "b = numpy.pi\n",
    "\n",
    "alpha = 1\n",
    "beta = -1\n",
    "\n",
    "C1 = (alpha - beta * numpy.sin(a) / numpy.sin(b)) / (numpy.cos(a) - numpy.sin(a) / numpy.tan(b))\n",
    "C2 = beta / numpy.sin(b) - C1 / numpy.tan(b)\n",
    "\n",
    "u_true = lambda x: C1 * numpy.cos(x) + C2 * numpy.sin(x)\n",
    "x, U = solve_linear_pendulum(a, b, alpha, beta, 10000)\n",
    "\n",
    "fig = plt.figure()\n",
    "axes = fig.add_subplot(1, 1, 1)\n",
    "axes.set_title(\"Solution and approximate solution when alpha = {}, beta = {}\".format(alpha,beta))\n",
    "axes.plot(x, u_true(x), 'k', label = 'True Solution')\n",
    "axes.plot(x, U, 'ob', label = 'approximate')\n",
    "axes.legend(loc='best')\n",
    "axes.set_xlim(a, b)\n",
    "axes.set_xlabel(\"x\")\n",
    "axes.set_ylabel(\"u(x)\")\n",
    "\n",
    "error = numpy.linalg.norm((x[1] - x[0]) * (U - u_true(x)), ord=1)\n",
    "print(\"Error = \", error)\n",
    "\n",
    "# # YOUR CODE HERE\n",
    "# raise NotImplementedError()"
   ]
  },
  {
   "cell_type": "code",
   "execution_count": null,
   "metadata": {},
   "outputs": [],
   "source": [
    "a = 0.0\n",
    "b = numpy.pi\n",
    "\n",
    "alpha = 1\n",
    "beta = 1\n",
    "\n",
    "C1 = (alpha - beta * numpy.sin(a) / numpy.sin(b)) / (numpy.cos(a) - numpy.sin(a) / numpy.tan(b))\n",
    "C2 = beta / numpy.sin(b) - C1 / numpy.tan(b)\n",
    "\n",
    "u_true = lambda x: C1 * numpy.cos(x) + C2 * numpy.sin(x)\n",
    "x, U = solve_linear_pendulum(a, b, alpha, beta, 10000)\n",
    "\n",
    "fig = plt.figure()\n",
    "axes = fig.add_subplot(1, 1, 1)\n",
    "axes.set_title(\"Solution and approximate solution when alpha = {}, beta = {}\".format(alpha,beta))\n",
    "axes.plot(x, u_true(x), 'k', label = 'True Solution')\n",
    "axes.plot(x, U, 'ob', label = 'approximate')\n",
    "axes.legend(loc='best')\n",
    "axes.set_xlim(a, b)\n",
    "axes.set_xlabel(\"x\")\n",
    "axes.set_ylabel(\"u(x)\")\n",
    "\n",
    "error = numpy.linalg.norm((x[1] - x[0]) * (U - u_true(x)), ord=1)\n",
    "print(\"Error = \", error)\n",
    "\n",
    "# # YOUR CODE HERE\n",
    "# raise NotImplementedError()"
   ]
  },
  {
   "cell_type": "markdown",
   "metadata": {},
   "source": [
    "**Answer to Question 3 (d)**\n",
    "\n",
    "when $a = 0$, $b = \\pi$, $\\alpha = 1$, $\\beta = 1$ as $\\Delta x \\rightarrow 0$ we can easily see the difference between approcimate value and the \"true solution\"(its not true of course! lol)"
   ]
  }
 ],
 "metadata": {
  "kernelspec": {
   "display_name": "Python 3 (ipykernel)",
   "language": "python",
   "name": "python3"
  },
  "language_info": {
   "codemirror_mode": {
    "name": "ipython",
    "version": 3
   },
   "file_extension": ".py",
   "mimetype": "text/x-python",
   "name": "python",
   "nbconvert_exporter": "python",
   "pygments_lexer": "ipython3",
   "version": "3.9.7"
  },
  "latex_envs": {
   "bibliofile": "biblio.bib",
   "cite_by": "apalike",
   "current_citInitial": 1,
   "eqLabelWithNumbers": true,
   "eqNumInitial": 0
  }
 },
 "nbformat": 4,
 "nbformat_minor": 4
}
